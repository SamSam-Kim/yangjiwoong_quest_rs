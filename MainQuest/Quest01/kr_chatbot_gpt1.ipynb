{
 "cells": [
  {
   "cell_type": "markdown",
   "id": "db4180bb",
   "metadata": {},
   "source": [
    "## 변경사항\n",
    "+ 인코더-디코더 구조에서 Only-디코더 구조로 변경하였다.\n",
    "+ 고정된 포지셔널 인코딩이 아닌 학습가능한 포지셔널 임베딩을 사용하였다.\n",
    "+ 인코더-디코더 어텐션을 제거하였다.\n",
    "+ ~~질문(Q)과 답변(A)을 구분자로 연결하여 단일 시퀀스로 처리하였다.~~ -> pretrain과정이므로 그냥 Q,A를 별개의 시퀀스로만 구성\n",
    "+ 출력층에 일반 밀집층이 아닌 임베딩 행렬의 전치를 곱함"
   ]
  },
  {
   "cell_type": "code",
   "execution_count": 1,
   "id": "ac480c32",
   "metadata": {},
   "outputs": [],
   "source": [
    "import tensorflow as tf\n",
    "import tensorflow_datasets as tfds\n",
    "import os\n",
    "import re\n",
    "import numpy as np\n",
    "import pandas as pd\n",
    "import re\n",
    "import matplotlib.pyplot as plt\n",
    "import tensorflow_datasets as tfds"
   ]
  },
  {
   "cell_type": "markdown",
   "id": "bc69aa0a",
   "metadata": {},
   "source": [
    "## csv 파일 로드 및 전처리"
   ]
  },
  {
   "cell_type": "code",
   "execution_count": 2,
   "id": "83718bb4",
   "metadata": {},
   "outputs": [
    {
     "name": "stdout",
     "output_type": "stream",
     "text": [
      "<class 'pandas.core.frame.DataFrame'>\n",
      "RangeIndex: 11823 entries, 0 to 11822\n",
      "Data columns (total 3 columns):\n",
      " #   Column  Non-Null Count  Dtype \n",
      "---  ------  --------------  ----- \n",
      " 0   Q       11823 non-null  object\n",
      " 1   A       11823 non-null  object\n",
      " 2   label   11823 non-null  int64 \n",
      "dtypes: int64(1), object(2)\n",
      "memory usage: 277.2+ KB\n"
     ]
    },
    {
     "data": {
      "text/html": [
       "<div>\n",
       "<style scoped>\n",
       "    .dataframe tbody tr th:only-of-type {\n",
       "        vertical-align: middle;\n",
       "    }\n",
       "\n",
       "    .dataframe tbody tr th {\n",
       "        vertical-align: top;\n",
       "    }\n",
       "\n",
       "    .dataframe thead th {\n",
       "        text-align: right;\n",
       "    }\n",
       "</style>\n",
       "<table border=\"1\" class=\"dataframe\">\n",
       "  <thead>\n",
       "    <tr style=\"text-align: right;\">\n",
       "      <th></th>\n",
       "      <th>Q</th>\n",
       "      <th>A</th>\n",
       "      <th>label</th>\n",
       "    </tr>\n",
       "  </thead>\n",
       "  <tbody>\n",
       "    <tr>\n",
       "      <th>0</th>\n",
       "      <td>12시 땡!</td>\n",
       "      <td>하루가 또 가네요.</td>\n",
       "      <td>0</td>\n",
       "    </tr>\n",
       "    <tr>\n",
       "      <th>1</th>\n",
       "      <td>1지망 학교 떨어졌어</td>\n",
       "      <td>위로해 드립니다.</td>\n",
       "      <td>0</td>\n",
       "    </tr>\n",
       "    <tr>\n",
       "      <th>2</th>\n",
       "      <td>3박4일 놀러가고 싶다</td>\n",
       "      <td>여행은 언제나 좋죠.</td>\n",
       "      <td>0</td>\n",
       "    </tr>\n",
       "    <tr>\n",
       "      <th>3</th>\n",
       "      <td>3박4일 정도 놀러가고 싶다</td>\n",
       "      <td>여행은 언제나 좋죠.</td>\n",
       "      <td>0</td>\n",
       "    </tr>\n",
       "    <tr>\n",
       "      <th>4</th>\n",
       "      <td>PPL 심하네</td>\n",
       "      <td>눈살이 찌푸려지죠.</td>\n",
       "      <td>0</td>\n",
       "    </tr>\n",
       "  </tbody>\n",
       "</table>\n",
       "</div>"
      ],
      "text/plain": [
       "                 Q            A  label\n",
       "0           12시 땡!   하루가 또 가네요.      0\n",
       "1      1지망 학교 떨어졌어    위로해 드립니다.      0\n",
       "2     3박4일 놀러가고 싶다  여행은 언제나 좋죠.      0\n",
       "3  3박4일 정도 놀러가고 싶다  여행은 언제나 좋죠.      0\n",
       "4          PPL 심하네   눈살이 찌푸려지죠.      0"
      ]
     },
     "execution_count": 2,
     "metadata": {},
     "output_type": "execute_result"
    }
   ],
   "source": [
    "csv_path = os.getenv('HOME') + '/aiffel/transformer_chatbot/data/ChatbotData_.csv'\n",
    "\n",
    "df = pd.read_csv(csv_path)\n",
    "\n",
    "df.info()\n",
    "df.head()"
   ]
  },
  {
   "cell_type": "code",
   "execution_count": 3,
   "id": "95e4fb5d",
   "metadata": {},
   "outputs": [],
   "source": [
    "def preprocess_korean_sentence(sentences):\n",
    "    preprocessed_setences = []\n",
    "    for sentence in sentences:\n",
    "        sentence = sentence.strip()\n",
    "\n",
    "        # SubwordTextEncoder는 구두점을 따로 제거하지 않기 때문에\n",
    "        # 필요한 구두점(.,!?)만 유지하고 없앰\n",
    "        sentence = re.sub(r\"([.,!?])\", r\" \\1 \", sentence)\n",
    "        # 여러 공백은 하나로 치환\n",
    "        sentence = re.sub(r\"\\s+\", \" \", sentence)\n",
    "        # 허용 문자만 남기고 나머지는 공백으로 치환\n",
    "        sentence = re.sub(r\"[^가-힣a-zA-Z0-9.,!? ]\", \" \", sentence)\n",
    "        \n",
    "        preprocessed_setences.append(sentence.strip())\n",
    "\n",
    "    return preprocessed_setences"
   ]
  },
  {
   "cell_type": "code",
   "execution_count": 4,
   "id": "4bfbe1e9",
   "metadata": {},
   "outputs": [],
   "source": [
    "questions = preprocess_korean_sentence(df['Q'])\n",
    "answers = preprocess_korean_sentence(df['A'])"
   ]
  },
  {
   "cell_type": "code",
   "execution_count": 5,
   "id": "d6259916",
   "metadata": {},
   "outputs": [],
   "source": [
    "# 질문과 대답을 하나의 리스트로 합침(pretrain을 위한 데이터셋 구축)\n",
    "combined_texts = questions + answers"
   ]
  },
  {
   "cell_type": "code",
   "execution_count": 6,
   "id": "8a9ea162",
   "metadata": {},
   "outputs": [
    {
     "name": "stdout",
     "output_type": "stream",
     "text": [
      "SNS보면 나만 빼고 다 행복해보여\n",
      "자랑하는 자리니까요 .\n"
     ]
    }
   ],
   "source": [
    "print(combined_texts[10])\n",
    "print(combined_texts[10 + 11823])"
   ]
  },
  {
   "cell_type": "markdown",
   "id": "e3ff6bfc",
   "metadata": {},
   "source": [
    "### 토큰화 및 정수 인코딩\n",
    "+ SubwordTextEncoder를 이용하여 토큰화 및 정수 인코딩"
   ]
  },
  {
   "cell_type": "code",
   "execution_count": 7,
   "id": "77d1a79a",
   "metadata": {},
   "outputs": [],
   "source": [
    "# tokenizer = tfds.deprecated.text.SubwordTextEncoder.build_from_corpus(\n",
    "#     questions + answers, target_vocab_size=2**13\n",
    "# )\n",
    "\n",
    "# # 토크나이저 저장\n",
    "# tokenizer.save_to_file('tokenizer_subword')"
   ]
  },
  {
   "cell_type": "code",
   "execution_count": 8,
   "id": "782aa9f2",
   "metadata": {},
   "outputs": [],
   "source": [
    "# 토크나이저 불러오기\n",
    "tokenizer = tfds.deprecated.text.SubwordTextEncoder.load_from_file('../../Exploration/Quest07/tokenizer_subword')"
   ]
  },
  {
   "cell_type": "code",
   "execution_count": 9,
   "id": "86c1825b",
   "metadata": {},
   "outputs": [],
   "source": [
    "# 시작 토큰과 종료 토큰 추가\n",
    "START_TOKEN, END_TOKEN = [tokenizer.vocab_size], [tokenizer.vocab_size + 1]"
   ]
  },
  {
   "cell_type": "code",
   "execution_count": 10,
   "id": "b00e6e26",
   "metadata": {},
   "outputs": [
    {
     "name": "stdout",
     "output_type": "stream",
     "text": [
      "8166\n"
     ]
    }
   ],
   "source": [
    "# 시작 토큰과 종료 토큰을 고려하여 +2\n",
    "VOCAB_SIZE = tokenizer.vocab_size + 2\n",
    "print(VOCAB_SIZE)"
   ]
  },
  {
   "cell_type": "code",
   "execution_count": 11,
   "id": "63b32ac0",
   "metadata": {},
   "outputs": [],
   "source": [
    "# 토큰화 및 정수 인코딩\n",
    "def text_vectorization(texts):\n",
    "  tokenized_texts = []\n",
    "  \n",
    "  for text in texts:\n",
    "    # 정수 인코딩 과정에서 시작 토큰과 종료 토큰을 추가\n",
    "    tokenized_text = START_TOKEN + tokenizer.encode(text) + END_TOKEN\n",
    "    tokenized_texts.append(tokenized_text)\n",
    "\n",
    "  return tokenized_texts"
   ]
  },
  {
   "cell_type": "code",
   "execution_count": 12,
   "id": "ba9ae703",
   "metadata": {},
   "outputs": [],
   "source": [
    "tokenized_combined_texts = text_vectorization(combined_texts)"
   ]
  },
  {
   "cell_type": "code",
   "execution_count": 13,
   "id": "2f21da9d",
   "metadata": {},
   "outputs": [
    {
     "name": "stdout",
     "output_type": "stream",
     "text": [
      "[8164, 5770, 483, 195, 2975, 45, 3810, 8165]\n",
      "SNS보면 나만 빼고 다 행복해보여\n"
     ]
    }
   ],
   "source": [
    "# 인코딩 결과 확인\n",
    "print(tokenized_combined_texts[10])\n",
    "print(tokenizer.decode(tokenized_combined_texts[10][1:-1]))"
   ]
  },
  {
   "cell_type": "markdown",
   "id": "9a85dceb",
   "metadata": {},
   "source": [
    "+ 길이 분포를 확인하여 최대 길이를 지정"
   ]
  },
  {
   "cell_type": "code",
   "execution_count": 14,
   "id": "38c5ba2a",
   "metadata": {},
   "outputs": [],
   "source": [
    "text_lengths = [len(text) for text in tokenized_combined_texts]"
   ]
  },
  {
   "cell_type": "code",
   "execution_count": 15,
   "id": "97cbc443",
   "metadata": {},
   "outputs": [
    {
     "name": "stdout",
     "output_type": "stream",
     "text": [
      "Corpus 최소 길이: 3, 최대 길이: 31, 평균 길이: 7.653302884208745\n"
     ]
    }
   ],
   "source": [
    "print(f'Corpus 최소 길이: {min(text_lengths)}, 최대 길이: {max(text_lengths)}, 평균 길이: {np.mean(text_lengths)}')"
   ]
  },
  {
   "cell_type": "code",
   "execution_count": 16,
   "id": "286c8450",
   "metadata": {},
   "outputs": [],
   "source": [
    "max_sequence_length = 31\n",
    "\n",
    "# 최대 길이에 맞추어 패딩\n",
    "inputs = tf.keras.preprocessing.sequence.pad_sequences(\n",
    "    tokenized_combined_texts, maxlen=max_sequence_length, padding='post')"
   ]
  },
  {
   "cell_type": "code",
   "execution_count": 17,
   "id": "a2c1ca2c",
   "metadata": {},
   "outputs": [
    {
     "data": {
      "text/plain": [
       "array([[8164, 7903, 4199, ...,    0,    0,    0],\n",
       "       [8164, 7957,   47, ...,    0,    0,    0],\n",
       "       [8164, 7959, 1433, ...,    0,    0,    0],\n",
       "       ...,\n",
       "       [8164, 5207,  287, ...,    0,    0,    0],\n",
       "       [8164,   14, 3191, ...,    0,    0,    0],\n",
       "       [8164,  221,  554, ...,    0,    0,    0]], dtype=int32)"
      ]
     },
     "execution_count": 17,
     "metadata": {},
     "output_type": "execute_result"
    }
   ],
   "source": [
    "inputs"
   ]
  },
  {
   "cell_type": "markdown",
   "id": "c063181f",
   "metadata": {},
   "source": [
    "### 입력, 타겟 시퀀스 생성"
   ]
  },
  {
   "cell_type": "code",
   "execution_count": 18,
   "id": "8a3857a8",
   "metadata": {},
   "outputs": [],
   "source": [
    "# 입력 시퀀스와 타겟 시퀀스 생성\n",
    "# 언어 모델링을 위해 입력은 토큰 0~(n-1), 타겟은 토큰 1~n\n",
    "def create_lm_dataset(sequences):\n",
    "    input_sequences = []\n",
    "    target_sequences = []\n",
    "    \n",
    "    for seq in sequences:\n",
    "        # 입력: 마지막 토큰을 제외한 시퀀스\n",
    "        input_seq = seq[:-1]\n",
    "        # 타겟: 첫 번째 토큰을 제외한 시퀀스\n",
    "        target_seq = seq[1:]\n",
    "\n",
    "        input_sequences.append(input_seq)\n",
    "        target_sequences.append(target_seq)\n",
    "\n",
    "    return np.array(input_sequences), np.array(target_sequences)"
   ]
  },
  {
   "cell_type": "code",
   "execution_count": 19,
   "id": "0b749956",
   "metadata": {},
   "outputs": [],
   "source": [
    "inputs, outputs = create_lm_dataset(inputs)"
   ]
  },
  {
   "cell_type": "markdown",
   "id": "c12953b2",
   "metadata": {},
   "source": [
    "## 트랜스포머 모델 구성"
   ]
  },
  {
   "cell_type": "markdown",
   "id": "5e562b32",
   "metadata": {},
   "source": [
    "## 층별 구성"
   ]
  },
  {
   "cell_type": "code",
   "execution_count": 20,
   "id": "2ced113b",
   "metadata": {},
   "outputs": [],
   "source": [
    "# 포지셔널 임베딩 층\n",
    "# 기존 고정된 포지셔널 인코딩에서 학습가능한 포지셔널 임베딩 층으로 변경\n",
    "class PositionalEmbedding(tf.keras.layers.Layer):\n",
    "    def __init__(self, max_position, d_model):\n",
    "        super().__init__()\n",
    "        self.w = self.add_weight(\n",
    "            shape = (max_position, d_model),\n",
    "            initializer=\"random_normal\",\n",
    "            trainable=True,\n",
    "        )\n",
    "    def call(self, inputs):\n",
    "        seq_len = tf.shape(inputs)[1] # 입력 시퀀스 길이만큼 잘라서 더해줘야함\n",
    "        position_embeddings = self.w[:seq_len, :]  # 먼저 필요한 길이만큼 잘라내고\n",
    "        position_embeddings = tf.expand_dims(position_embeddings, 0)  # 배치 차원 추가\n",
    "        return inputs + position_embeddings"
   ]
  },
  {
   "cell_type": "code",
   "execution_count": 21,
   "id": "9d686951",
   "metadata": {},
   "outputs": [],
   "source": [
    "def scaled_dot_product_attention(query, key, value, mask):\n",
    "  # 어텐션 가중치는 Q와 K의 닷 프로덕트\n",
    "  matmul_qk = tf.matmul(query, key, transpose_b=True)\n",
    "\n",
    "  # 가중치를 정규화\n",
    "  depth = tf.cast(tf.shape(key)[-1], tf.float32)\n",
    "  logits = matmul_qk / tf.math.sqrt(depth)\n",
    "\n",
    "  # 패딩에 마스크 추가\n",
    "  if mask is not None:\n",
    "    logits += (mask * -1e9)\n",
    "\n",
    "  # softmax적용\n",
    "  attention_weights = tf.nn.softmax(logits, axis=-1)\n",
    "\n",
    "  # 최종 어텐션은 가중치와 V의 닷 프로덕트\n",
    "  output = tf.matmul(attention_weights, value)\n",
    "  return output"
   ]
  },
  {
   "cell_type": "code",
   "execution_count": 22,
   "id": "63e1a666",
   "metadata": {},
   "outputs": [],
   "source": [
    "class MultiHeadAttention(tf.keras.layers.Layer):\n",
    "\n",
    "  def __init__(self, d_model, num_heads, name=\"multi_head_attention\"):\n",
    "    super(MultiHeadAttention, self).__init__(name=name)\n",
    "    self.num_heads = num_heads\n",
    "    self.d_model = d_model\n",
    "\n",
    "    assert d_model % self.num_heads == 0\n",
    "\n",
    "    self.depth = d_model // self.num_heads\n",
    "\n",
    "    self.query_dense = tf.keras.layers.Dense(units=d_model)\n",
    "    self.key_dense = tf.keras.layers.Dense(units=d_model)\n",
    "    self.value_dense = tf.keras.layers.Dense(units=d_model)\n",
    "\n",
    "    self.dense = tf.keras.layers.Dense(units=d_model)\n",
    "\n",
    "  def split_heads(self, inputs, batch_size):\n",
    "    inputs = tf.reshape(\n",
    "        inputs, shape=(batch_size, -1, self.num_heads, self.depth))\n",
    "    return tf.transpose(inputs, perm=[0, 2, 1, 3])\n",
    "\n",
    "  def call(self, inputs):\n",
    "    query, key, value, mask = inputs['query'], inputs['key'], inputs[\n",
    "        'value'], inputs['mask']\n",
    "    batch_size = tf.shape(query)[0]\n",
    "\n",
    "    # Q, K, V에 각각 Dense를 적용\n",
    "    query = self.query_dense(query)\n",
    "    key = self.key_dense(key)\n",
    "    value = self.value_dense(value)\n",
    "\n",
    "    # 병렬연산을 위한 멀티 헤드 분리\n",
    "    query = self.split_heads(query, batch_size)\n",
    "    key = self.split_heads(key, batch_size)\n",
    "    value = self.split_heads(value, batch_size)\n",
    "\n",
    "    # 스케일드 닷 프로덕트 어텐션 함수\n",
    "    scaled_attention = scaled_dot_product_attention(query, key, value, mask)\n",
    "\n",
    "    scaled_attention = tf.transpose(scaled_attention, perm=[0, 2, 1, 3])\n",
    "\n",
    "    # 어텐션 연산 후에 각 결과를 다시 연결(concatenate)\n",
    "    concat_attention = tf.reshape(scaled_attention,\n",
    "                                  (batch_size, -1, self.d_model))\n",
    "\n",
    "    # 최종 결과에 Dense를 한 번 더 적용\n",
    "    outputs = self.dense(concat_attention)\n",
    "\n",
    "    return outputs"
   ]
  },
  {
   "cell_type": "code",
   "execution_count": 23,
   "id": "45a6005f",
   "metadata": {},
   "outputs": [],
   "source": [
    "def create_padding_mask(seq):\n",
    "  padding_mask = tf.cast(tf.math.equal(seq, 0), tf.float32)\n",
    "  # (batch_size, 1, 1, sequence length)\n",
    "  return padding_mask[:, tf.newaxis, tf.newaxis, :]"
   ]
  },
  {
   "cell_type": "code",
   "execution_count": 24,
   "id": "a6c052f9",
   "metadata": {},
   "outputs": [],
   "source": [
    "def create_look_ahead_mask(seq_len):\n",
    "  look_ahead_mask = 1 - tf.linalg.band_part(tf.ones((seq_len, seq_len)), -1, 0)\n",
    "  return look_ahead_mask"
   ]
  },
  {
   "cell_type": "code",
   "execution_count": 25,
   "id": "dc899216",
   "metadata": {},
   "outputs": [],
   "source": [
    "# gpt 모델은 디코더 블록만을 사용한 구조\n",
    "# 두 개의 서브 레이어(셀프 어텐션, 포지션-와이즈 FFNN)로 구성\n",
    "# 기존 인코더의 입력 매개변수를 제거\n",
    "# (기능이랑은 관련 x) look_ahead_mask와 padding_mask 대신 단일 attention_mask 사용\n",
    "def gpt_block(dff, d_model, num_heads, dropout, name=\"gpt_block\"):\n",
    "  inputs = tf.keras.Input(shape=(None, d_model), name=\"inputs\")\n",
    "  attention_mask = tf.keras.Input(shape=(1, None, None), name=\"attention_mask\")\n",
    "\n",
    "  # 첫 번째 서브 레이어 : 셀프 어텐션\n",
    "  attention = MultiHeadAttention(\n",
    "      d_model, num_heads, name=\"attention\")({\n",
    "          'query': inputs,\n",
    "          'key': inputs,\n",
    "          'value': inputs,\n",
    "          'mask': attention_mask\n",
    "      })\n",
    "\n",
    "  # LayerNormalization\n",
    "  attention = tf.keras.layers.LayerNormalization(\n",
    "      epsilon=1e-6)(inputs + attention)\n",
    "\n",
    "  ''' \n",
    "  \n",
    "  기존 인코더 - 디코더 어텐션을 제거\n",
    "  \n",
    "  '''\n",
    "\n",
    "  # 두 번째 서브 레이어 : 2개의 완전연결층(피드포워드 신경망)\n",
    "  outputs = tf.keras.layers.Dense(units=dff, activation='relu')(attention) \n",
    "  outputs = tf.keras.layers.Dense(units=d_model)(outputs)\n",
    "\n",
    "  # Dropout, LayerNormalization\n",
    "  outputs = tf.keras.layers.Dropout(rate=dropout)(outputs)\n",
    "  outputs = tf.keras.layers.LayerNormalization(\n",
    "      epsilon=1e-6)(outputs + attention)\n",
    "\n",
    "  return tf.keras.Model(\n",
    "      inputs=[inputs, attention_mask], # 인코더와 연결된 입력을 제거\n",
    "      outputs=outputs,\n",
    "      name=name)"
   ]
  },
  {
   "cell_type": "code",
   "execution_count": 26,
   "id": "18021390",
   "metadata": {},
   "outputs": [],
   "source": [
    "# 출력층의 가중치 공유레이어를 정의\n",
    "class SharedWeightsLayer(tf.keras.layers.Layer):\n",
    "    def __init__(self, shared_weights):\n",
    "        super().__init__()\n",
    "        self.shared_weights = shared_weights\n",
    "    \n",
    "    def call(self, inputs):\n",
    "        return tf.matmul(inputs, self.shared_weights, transpose_b=True)"
   ]
  },
  {
   "cell_type": "markdown",
   "id": "62a4d494",
   "metadata": {},
   "source": [
    "### 최종 모델"
   ]
  },
  {
   "cell_type": "code",
   "execution_count": 27,
   "id": "7b5d2b77",
   "metadata": {},
   "outputs": [],
   "source": [
    "def gpt_model(vocab_size,\n",
    "                num_layers,\n",
    "                dff, # units -> dff로 논문 표기대로 변경\n",
    "                d_model,\n",
    "                num_heads,\n",
    "                max_position, # 포지셔널 임베딩을 위해 시퀀스 최대 길이 전달(기존 방법보다 더 정확한 방법)\n",
    "                dropout,\n",
    "                name=\"gpt-1\"):\n",
    "  # 기존 인코더, 디코더 입력 -> 디코더 입력으로 통일\n",
    "  inputs = tf.keras.Input(shape=(None,), dtype=tf.int32, name=\"inputs\") # 정수 인코딩된 시퀀스 입력\n",
    "\n",
    "  # 마스크 생성\n",
    "  # 기존 방식에서 각 함수별 역할을 명학하게 분리\n",
    "  padding_mask = create_padding_mask(inputs)\n",
    "\n",
    "  seq_length = tf.shape(inputs)[1]\n",
    "  look_ahead_mask = create_look_ahead_mask(seq_length)\n",
    "\n",
    "  # 두 마스크 결합\n",
    "  look_ahead_mask = tf.expand_dims(tf.expand_dims(look_ahead_mask, 0), 1)\n",
    "  combined_mask = tf.maximum(padding_mask, look_ahead_mask)\n",
    "    \n",
    "  # 임베딩 레이어(출력층에서 사용을 위해 임베딩 층을 별도로 저장)\n",
    "  embedding_layer = tf.keras.layers.Embedding(vocab_size, d_model)\n",
    "  token_embeddings = embedding_layer(inputs)\n",
    "  token_embeddings *= tf.math.sqrt(tf.cast(d_model, tf.float32))\n",
    "\n",
    "  # 포지셔널 임베딩\n",
    "  embeddings = PositionalEmbedding(max_position, d_model)(token_embeddings)\n",
    "\n",
    "  # Dropout\n",
    "  outputs = tf.keras.layers.Dropout(rate=dropout)(embeddings)\n",
    "\n",
    "  # 블록 쌓기\n",
    "  for i in range(num_layers):\n",
    "    outputs = gpt_block(\n",
    "        dff=dff,\n",
    "        d_model=d_model,\n",
    "        num_heads=num_heads,\n",
    "        dropout=dropout,\n",
    "        name='gpt_block_{}'.format(i),\n",
    "    )(inputs=[outputs, combined_mask]) # 간단해진 입력\n",
    "\n",
    "  # 출력층\n",
    "  # embeddings 가중치를 공유하여 행렬곱\n",
    "  logits = SharedWeightsLayer(embedding_layer.weights[0])(outputs)\n",
    "\n",
    "  return tf.keras.Model(inputs=inputs, outputs=logits, name=name)"
   ]
  },
  {
   "cell_type": "code",
   "execution_count": 28,
   "id": "1e443324",
   "metadata": {},
   "outputs": [
    {
     "name": "stdout",
     "output_type": "stream",
     "text": [
      "Model: \"gpt-1\"\n",
      "__________________________________________________________________________________________________\n",
      "Layer (type)                    Output Shape         Param #     Connected to                     \n",
      "==================================================================================================\n",
      "inputs (InputLayer)             [(None, None)]       0                                            \n",
      "__________________________________________________________________________________________________\n",
      "tf.compat.v1.shape (TFOpLambda) (2,)                 0           inputs[0][0]                     \n",
      "__________________________________________________________________________________________________\n",
      "tf.__operators__.getitem_1 (Sli ()                   0           tf.compat.v1.shape[0][0]         \n",
      "__________________________________________________________________________________________________\n",
      "tf.ones (TFOpLambda)            (None, None)         0           tf.__operators__.getitem_1[0][0] \n",
      "                                                                 tf.__operators__.getitem_1[0][0] \n",
      "__________________________________________________________________________________________________\n",
      "tf.linalg.band_part (TFOpLambda (None, None)         0           tf.ones[0][0]                    \n",
      "__________________________________________________________________________________________________\n",
      "embedding (Embedding)           (None, None, 256)    2090496     inputs[0][0]                     \n",
      "__________________________________________________________________________________________________\n",
      "tf.math.equal (TFOpLambda)      (None, None)         0           inputs[0][0]                     \n",
      "__________________________________________________________________________________________________\n",
      "tf.math.subtract (TFOpLambda)   (None, None)         0           tf.linalg.band_part[0][0]        \n",
      "__________________________________________________________________________________________________\n",
      "tf.math.multiply (TFOpLambda)   (None, None, 256)    0           embedding[0][0]                  \n",
      "__________________________________________________________________________________________________\n",
      "tf.cast (TFOpLambda)            (None, None)         0           tf.math.equal[0][0]              \n",
      "__________________________________________________________________________________________________\n",
      "tf.expand_dims (TFOpLambda)     (1, None, None)      0           tf.math.subtract[0][0]           \n",
      "__________________________________________________________________________________________________\n",
      "positional_embedding (Positiona (None, None, 256)    7936        tf.math.multiply[0][0]           \n",
      "__________________________________________________________________________________________________\n",
      "tf.__operators__.getitem (Slici (None, 1, 1, None)   0           tf.cast[0][0]                    \n",
      "__________________________________________________________________________________________________\n",
      "tf.expand_dims_1 (TFOpLambda)   (1, 1, None, None)   0           tf.expand_dims[0][0]             \n",
      "__________________________________________________________________________________________________\n",
      "dropout (Dropout)               (None, None, 256)    0           positional_embedding[0][0]       \n",
      "__________________________________________________________________________________________________\n",
      "tf.math.maximum (TFOpLambda)    (None, 1, None, None 0           tf.__operators__.getitem[0][0]   \n",
      "                                                                 tf.expand_dims_1[0][0]           \n",
      "__________________________________________________________________________________________________\n",
      "gpt_block_0 (Functional)        (None, None, 256)    527104      dropout[0][0]                    \n",
      "                                                                 tf.math.maximum[0][0]            \n",
      "__________________________________________________________________________________________________\n",
      "gpt_block_1 (Functional)        (None, None, 256)    527104      gpt_block_0[0][0]                \n",
      "                                                                 tf.math.maximum[0][0]            \n",
      "__________________________________________________________________________________________________\n",
      "gpt_block_2 (Functional)        (None, None, 256)    527104      gpt_block_1[0][0]                \n",
      "                                                                 tf.math.maximum[0][0]            \n",
      "__________________________________________________________________________________________________\n",
      "gpt_block_3 (Functional)        (None, None, 256)    527104      gpt_block_2[0][0]                \n",
      "                                                                 tf.math.maximum[0][0]            \n",
      "__________________________________________________________________________________________________\n",
      "shared_weights_layer (SharedWei (None, None, 8166)   2090496     gpt_block_3[0][0]                \n",
      "==================================================================================================\n",
      "Total params: 4,206,848\n",
      "Trainable params: 4,206,848\n",
      "Non-trainable params: 0\n",
      "__________________________________________________________________________________________________\n"
     ]
    }
   ],
   "source": [
    "tf.keras.backend.clear_session()\n",
    "\n",
    "# 하이퍼파라미터\n",
    "NUM_LAYERS = 4 # 인코더와 디코더의 층의 개수\n",
    "D_MODEL = 256 # 인코더와 디코더 내부의 입, 출력의 고정 차원\n",
    "NUM_HEADS = 8 # 멀티 헤드 어텐션에서의 헤드 수 \n",
    "DFF = 512 # 피드 포워드 신경망의 은닉층의 크기\n",
    "DROPOUT = 0.1 # 드롭아웃의 비율\n",
    "MAX_POSITION = max_sequence_length # 최대 길이를 하이퍼파라미터로 추가\n",
    "\n",
    "# 모델 생성\n",
    "model = gpt_model(\n",
    "    vocab_size=VOCAB_SIZE,\n",
    "    num_layers=NUM_LAYERS,\n",
    "    d_model=D_MODEL,\n",
    "    num_heads=NUM_HEADS,\n",
    "    dff=DFF,\n",
    "    max_position=MAX_POSITION,\n",
    "    dropout=DROPOUT\n",
    ")\n",
    "\n",
    "model.summary()"
   ]
  },
  {
   "cell_type": "markdown",
   "id": "24d369d6",
   "metadata": {},
   "source": [
    "## 모델 훈련"
   ]
  },
  {
   "cell_type": "code",
   "execution_count": 29,
   "id": "05464c08",
   "metadata": {},
   "outputs": [],
   "source": [
    "BATCH_SIZE = 64\n",
    "BUFFER_SIZE = 20000\n",
    "\n",
    "# 이에 따라 outputs에서는 START_TOKEN을 제거\n",
    "dataset = tf.data.Dataset.from_tensor_slices((\n",
    "    {'inputs': inputs},\n",
    "    outputs\n",
    "))\n",
    "\n",
    "dataset = dataset.cache()\n",
    "dataset = dataset.shuffle(BUFFER_SIZE)\n",
    "dataset = dataset.batch(BATCH_SIZE)\n",
    "dataset = dataset.prefetch(tf.data.experimental.AUTOTUNE)"
   ]
  },
  {
   "cell_type": "code",
   "execution_count": 30,
   "id": "4599e707",
   "metadata": {},
   "outputs": [],
   "source": [
    "def loss_function(y_true, y_pred):\n",
    "  y_true = tf.reshape(y_true, shape=(-1, max_sequence_length - 1))\n",
    "\n",
    "  loss = tf.keras.losses.SparseCategoricalCrossentropy(\n",
    "      from_logits=True, reduction='none')(y_true, y_pred)\n",
    "\n",
    "  mask = tf.cast(tf.not_equal(y_true, 0), tf.float32)\n",
    "  loss = tf.multiply(loss, mask)\n",
    "\n",
    "  return tf.reduce_mean(loss)"
   ]
  },
  {
   "cell_type": "code",
   "execution_count": 31,
   "id": "47d7eebe",
   "metadata": {},
   "outputs": [],
   "source": [
    "class CustomSchedule(tf.keras.optimizers.schedules.LearningRateSchedule):\n",
    "\n",
    "  def __init__(self, d_model, warmup_steps=4000):\n",
    "    super(CustomSchedule, self).__init__()\n",
    "\n",
    "    self.d_model = d_model\n",
    "    self.d_model = tf.cast(self.d_model, tf.float32)\n",
    "\n",
    "    self.warmup_steps = warmup_steps\n",
    "\n",
    "  def __call__(self, step):\n",
    "    arg1 = tf.math.rsqrt(step)\n",
    "    arg2 = step * (self.warmup_steps**-1.5)\n",
    "\n",
    "    return tf.math.rsqrt(self.d_model) * tf.math.minimum(arg1, arg2)"
   ]
  },
  {
   "cell_type": "code",
   "execution_count": 32,
   "id": "660fdc4d",
   "metadata": {},
   "outputs": [
    {
     "data": {
      "text/plain": [
       "Text(0.5, 0, 'Train Step')"
      ]
     },
     "execution_count": 32,
     "metadata": {},
     "output_type": "execute_result"
    },
    {
     "data": {
      "image/png": "[encoded data removed]",
      "text/plain": [
       "<Figure size 432x288 with 1 Axes>"
      ]
     },
     "metadata": {
      "needs_background": "light"
     },
     "output_type": "display_data"
    }
   ],
   "source": [
    "sample_learning_rate = CustomSchedule(d_model=128)\n",
    "\n",
    "plt.plot(sample_learning_rate(tf.range(200000, dtype=tf.float32)))\n",
    "plt.ylabel(\"Learning Rate\")\n",
    "plt.xlabel(\"Train Step\")"
   ]
  },
  {
   "cell_type": "code",
   "execution_count": 33,
   "id": "c57c50a4",
   "metadata": {},
   "outputs": [],
   "source": [
    "learning_rate = CustomSchedule(D_MODEL)\n",
    "\n",
    "optimizer = tf.keras.optimizers.Adam(\n",
    "    learning_rate, beta_1=0.9, beta_2=0.98, epsilon=1e-9)\n",
    "\n",
    "def accuracy(y_true, y_pred):\n",
    "  y_true = tf.reshape(y_true, shape=(-1, max_sequence_length - 1))\n",
    "  return tf.keras.metrics.sparse_categorical_accuracy(y_true, y_pred)\n",
    "\n",
    "model.compile(optimizer=optimizer, loss=loss_function, metrics=[accuracy])"
   ]
  },
  {
   "cell_type": "code",
   "execution_count": 34,
   "id": "857ae0a8",
   "metadata": {
    "scrolled": false
   },
   "outputs": [
    {
     "name": "stdout",
     "output_type": "stream",
     "text": [
      "Epoch 1/20\n",
      "370/370 [==============================] - 21s 44ms/step - loss: 1.6799 - accuracy: 0.1411\n",
      "Epoch 2/20\n",
      "370/370 [==============================] - 16s 44ms/step - loss: 1.3939 - accuracy: 0.0493\n",
      "Epoch 3/20\n",
      "370/370 [==============================] - 17s 45ms/step - loss: 1.2925 - accuracy: 0.0560\n",
      "Epoch 4/20\n",
      "370/370 [==============================] - 16s 45ms/step - loss: 1.2057 - accuracy: 0.0607\n",
      "Epoch 5/20\n",
      "370/370 [==============================] - 17s 45ms/step - loss: 1.1245 - accuracy: 0.0661\n",
      "Epoch 6/20\n",
      "370/370 [==============================] - 17s 45ms/step - loss: 1.0465 - accuracy: 0.0724\n",
      "Epoch 7/20\n",
      "370/370 [==============================] - 17s 45ms/step - loss: 0.9725 - accuracy: 0.0785\n",
      "Epoch 8/20\n",
      "370/370 [==============================] - 17s 46ms/step - loss: 0.9054 - accuracy: 0.0841\n",
      "Epoch 9/20\n",
      "370/370 [==============================] - 17s 46ms/step - loss: 0.8459 - accuracy: 0.0892\n",
      "Epoch 10/20\n",
      "370/370 [==============================] - 17s 46ms/step - loss: 0.7955 - accuracy: 0.0938\n",
      "Epoch 11/20\n",
      "370/370 [==============================] - 17s 46ms/step - loss: 0.7555 - accuracy: 0.0976\n",
      "Epoch 12/20\n",
      "370/370 [==============================] - 17s 46ms/step - loss: 0.7127 - accuracy: 0.1022\n",
      "Epoch 13/20\n",
      "370/370 [==============================] - 17s 46ms/step - loss: 0.6640 - accuracy: 0.1084\n",
      "Epoch 14/20\n",
      "370/370 [==============================] - 17s 46ms/step - loss: 0.6227 - accuracy: 0.1142\n",
      "Epoch 15/20\n",
      "370/370 [==============================] - 17s 46ms/step - loss: 0.5887 - accuracy: 0.1196\n",
      "Epoch 16/20\n",
      "370/370 [==============================] - 17s 46ms/step - loss: 0.5602 - accuracy: 0.1248\n",
      "Epoch 17/20\n",
      "370/370 [==============================] - 17s 47ms/step - loss: 0.5365 - accuracy: 0.1292\n",
      "Epoch 18/20\n",
      "370/370 [==============================] - 17s 47ms/step - loss: 0.5178 - accuracy: 0.1331\n",
      "Epoch 19/20\n",
      "370/370 [==============================] - 17s 47ms/step - loss: 0.5025 - accuracy: 0.1361\n",
      "Epoch 20/20\n",
      "370/370 [==============================] - 17s 46ms/step - loss: 0.4904 - accuracy: 0.1389\n"
     ]
    }
   ],
   "source": [
    "EPOCHS = 20\n",
    "history = model.fit(dataset, epochs=EPOCHS, verbose=1)"
   ]
  },
  {
   "cell_type": "markdown",
   "id": "b19a71d5",
   "metadata": {},
   "source": [
    "### 훈련 결과 시각화"
   ]
  },
  {
   "cell_type": "code",
   "execution_count": 35,
   "id": "192d0402",
   "metadata": {},
   "outputs": [
    {
     "data": {
      "text/plain": [
       "[<matplotlib.axis.XTick at 0x71fdd856c0a0>,\n",
       " <matplotlib.axis.XTick at 0x71fdd856c070>,\n",
       " <matplotlib.axis.XTick at 0x71fdd8566f10>,\n",
       " <matplotlib.axis.XTick at 0x71fdd85274c0>,\n",
       " <matplotlib.axis.XTick at 0x71fdd85312b0>,\n",
       " <matplotlib.axis.XTick at 0x71fdd854b460>,\n",
       " <matplotlib.axis.XTick at 0x71fdd854bbb0>,\n",
       " <matplotlib.axis.XTick at 0x71fdd8555340>,\n",
       " <matplotlib.axis.XTick at 0x71fdd8555a90>,\n",
       " <matplotlib.axis.XTick at 0x71fdd8555ca0>,\n",
       " <matplotlib.axis.XTick at 0x71fdd854bb80>,\n",
       " <matplotlib.axis.XTick at 0x71fdd8545550>,\n",
       " <matplotlib.axis.XTick at 0x71fdd855a730>,\n",
       " <matplotlib.axis.XTick at 0x71fdd855ae80>,\n",
       " <matplotlib.axis.XTick at 0x71fdd84e3610>,\n",
       " <matplotlib.axis.XTick at 0x71fdd84e3d60>,\n",
       " <matplotlib.axis.XTick at 0x71fdd84e3550>,\n",
       " <matplotlib.axis.XTick at 0x71fdd855a400>,\n",
       " <matplotlib.axis.XTick at 0x71fdd8545f70>,\n",
       " <matplotlib.axis.XTick at 0x71fdd84e7340>]"
      ]
     },
     "execution_count": 35,
     "metadata": {},
     "output_type": "execute_result"
    },
    {
     "data": {
      "image/png": "[encoded data removed]",
      "text/plain": [
       "<Figure size 1008x432 with 2 Axes>"
      ]
     },
     "metadata": {
      "needs_background": "light"
     },
     "output_type": "display_data"
    }
   ],
   "source": [
    "train_loss = history.history['loss']\n",
    "train_acc = history.history['accuracy']\n",
    "\n",
    "fig, axis = plt.subplots(1,2, figsize = (14, 6))\n",
    "axis[0].plot(train_loss)\n",
    "axis[0].set_xlabel('epoch')\n",
    "axis[0].set_ylabel('loss')\n",
    "axis[0].set_xticks(range(len(train_loss)))\n",
    "axis[1].plot(train_acc)\n",
    "axis[1].set_xlabel('epoch')\n",
    "axis[1].set_ylabel('accuracy')\n",
    "axis[1].set_xticks(range(len(train_loss)))"
   ]
  },
  {
   "cell_type": "markdown",
   "id": "82c20122",
   "metadata": {},
   "source": [
    "## 추론 함수 정의"
   ]
  },
  {
   "cell_type": "code",
   "execution_count": 36,
   "id": "6a82889c",
   "metadata": {},
   "outputs": [],
   "source": [
    "def generate_text(model, start_text, max_length=max_sequence_length, temperature=1.0): # 언어모델임을 고려하여 temperature 정의\n",
    "    # 시작 텍스트 전처리\n",
    "    start_text = preprocess_korean_sentence([start_text])[0]\n",
    "    input_tokens = START_TOKEN + tokenizer.encode(start_text)\n",
    "    input_tokens = tf.expand_dims(input_tokens, 0)\n",
    "    \n",
    "    # 결과 텍스트\n",
    "    result = start_text\n",
    "    \n",
    "    # 텍스트 생성\n",
    "    for _ in range(max_length):\n",
    "        # 입력이 너무 길면 자름\n",
    "        if input_tokens.shape[1] > max_sequence_length:\n",
    "            input_tokens = input_tokens[:, -max_sequence_length:]\n",
    "        \n",
    "        # 다음 단어 예측\n",
    "        predictions = model(input_tokens)\n",
    "        predictions = predictions[:, -1, :]  # 마지막 토큰의 예측만 사용\n",
    "        \n",
    "        # 확률 분포 조정\n",
    "        if temperature != 1.0:\n",
    "            predictions = predictions / temperature\n",
    "        \n",
    "        # 다음 단어 샘플링\n",
    "        predicted_id = tf.random.categorical(predictions, num_samples=1)\n",
    "        \n",
    "        # 종료 토큰이 나오면 중단\n",
    "        if predicted_id == END_TOKEN[0]:\n",
    "            break\n",
    "        \n",
    "        # 예측된 토큰을 입력에 추가\n",
    "        input_tokens = tf.cast(input_tokens, tf.int32) # 타입불일치 에러가 나서 양 데이터 타입 일치\n",
    "        predicted_id = tf.cast(predicted_id, tf.int32)\n",
    "        \n",
    "        input_tokens = tf.concat([input_tokens, predicted_id], axis=1)\n",
    "        \n",
    "        # 예측된 토큰을 결과에 추가\n",
    "        predicted_token = tokenizer.decode([predicted_id.numpy()[0][0]])\n",
    "        result += predicted_token\n",
    "    \n",
    "    return result"
   ]
  },
  {
   "cell_type": "markdown",
   "id": "9102e172",
   "metadata": {},
   "source": [
    "## 입력문장 테스트"
   ]
  },
  {
   "cell_type": "code",
   "execution_count": 40,
   "id": "881ae397",
   "metadata": {
    "scrolled": true
   },
   "outputs": [
    {
     "name": "stdout",
     "output_type": "stream",
     "text": [
      "프롬프트: '3박 4일'\n",
      "생성된 텍스트: '3박 4일 정도 놀러가고 싶다'\n",
      "\n",
      "프롬프트: 'SNS'\n",
      "생성된 텍스트: 'SNS보면 나만 빼고 다 행복해보여'\n",
      "\n",
      "프롬프트: '오늘 학교에서'\n",
      "생성된 텍스트: '오늘 학교에서만 사랑해주세요 .'\n",
      "\n",
      "프롬프트: '오늘 하루'\n",
      "생성된 텍스트: '오늘 하루였어도 잘 갔는데'\n",
      "\n",
      "프롬프트: '밥먹고'\n",
      "생성된 텍스트: '밥먹고는 뭐하나'\n",
      "\n"
     ]
    }
   ],
   "source": [
    "test_prompts = [\"3박 4일\", \"SNS\", \"오늘 학교에서\", \"오늘 하루\", \"밥먹고\"]\n",
    "\n",
    "for prompt in test_prompts:\n",
    "    generated = generate_text(model, prompt, max_length=30, temperature=0.5)\n",
    "    print(f\"프롬프트: '{prompt}'\")\n",
    "    print(f\"생성된 텍스트: '{generated}'\", end='\\n\\n')"
   ]
  }
 ],
 "metadata": {
  "kernelspec": {
   "display_name": "Python 3 (ipykernel)",
   "language": "python",
   "name": "python3"
  },
  "language_info": {
   "codemirror_mode": {
    "name": "ipython",
    "version": 3
   },
   "file_extension": ".py",
   "mimetype": "text/x-python",
   "name": "python",
   "nbconvert_exporter": "python",
   "pygments_lexer": "ipython3",
   "version": "3.9.7"
  }
 },
 "nbformat": 4,
 "nbformat_minor": 5
}
