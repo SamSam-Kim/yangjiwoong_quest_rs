{
 "cells": [
  {
   "cell_type": "code",
   "execution_count": 1,
   "id": "0fe8a78a",
   "metadata": {},
   "outputs": [],
   "source": [
    "import pandas\n",
    "import konlpy\n",
    "import gensim\n",
    "import os\n",
    "import tensorflow as tf\n",
    "import matplotlib.pyplot as plt\n",
    "from gensim.models import Word2Vec\n",
    "from gensim.models.keyedvectors import Word2VecKeyedVectors"
   ]
  },
  {
   "cell_type": "markdown",
   "id": "afbbee66",
   "metadata": {},
   "source": [
    "## 데이터 준비"
   ]
  },
  {
   "cell_type": "code",
   "execution_count": 2,
   "id": "06b0655a",
   "metadata": {},
   "outputs": [
    {
     "data": {
      "text/html": [
       "<div>\n",
       "<style scoped>\n",
       "    .dataframe tbody tr th:only-of-type {\n",
       "        vertical-align: middle;\n",
       "    }\n",
       "\n",
       "    .dataframe tbody tr th {\n",
       "        vertical-align: top;\n",
       "    }\n",
       "\n",
       "    .dataframe thead th {\n",
       "        text-align: right;\n",
       "    }\n",
       "</style>\n",
       "<table border=\"1\" class=\"dataframe\">\n",
       "  <thead>\n",
       "    <tr style=\"text-align: right;\">\n",
       "      <th></th>\n",
       "      <th>id</th>\n",
       "      <th>document</th>\n",
       "      <th>label</th>\n",
       "    </tr>\n",
       "  </thead>\n",
       "  <tbody>\n",
       "    <tr>\n",
       "      <th>0</th>\n",
       "      <td>9976970</td>\n",
       "      <td>아 더빙.. 진짜 짜증나네요 목소리</td>\n",
       "      <td>0</td>\n",
       "    </tr>\n",
       "    <tr>\n",
       "      <th>1</th>\n",
       "      <td>3819312</td>\n",
       "      <td>흠...포스터보고 초딩영화줄....오버연기조차 가볍지 않구나</td>\n",
       "      <td>1</td>\n",
       "    </tr>\n",
       "    <tr>\n",
       "      <th>2</th>\n",
       "      <td>10265843</td>\n",
       "      <td>너무재밓었다그래서보는것을추천한다</td>\n",
       "      <td>0</td>\n",
       "    </tr>\n",
       "    <tr>\n",
       "      <th>3</th>\n",
       "      <td>9045019</td>\n",
       "      <td>교도소 이야기구먼 ..솔직히 재미는 없다..평점 조정</td>\n",
       "      <td>0</td>\n",
       "    </tr>\n",
       "    <tr>\n",
       "      <th>4</th>\n",
       "      <td>6483659</td>\n",
       "      <td>사이몬페그의 익살스런 연기가 돋보였던 영화!스파이더맨에서 늙어보이기만 했던 커스틴 ...</td>\n",
       "      <td>1</td>\n",
       "    </tr>\n",
       "  </tbody>\n",
       "</table>\n",
       "</div>"
      ],
      "text/plain": [
       "         id                                           document  label\n",
       "0   9976970                                아 더빙.. 진짜 짜증나네요 목소리      0\n",
       "1   3819312                  흠...포스터보고 초딩영화줄....오버연기조차 가볍지 않구나      1\n",
       "2  10265843                                  너무재밓었다그래서보는것을추천한다      0\n",
       "3   9045019                      교도소 이야기구먼 ..솔직히 재미는 없다..평점 조정      0\n",
       "4   6483659  사이몬페그의 익살스런 연기가 돋보였던 영화!스파이더맨에서 늙어보이기만 했던 커스틴 ...      1"
      ]
     },
     "execution_count": 2,
     "metadata": {},
     "output_type": "execute_result"
    }
   ],
   "source": [
    "import pandas as pd\n",
    "\n",
    "train_data = pd.read_table('~/aiffel/sentiment_classification/data/ratings_train.txt')\n",
    "test_data = pd.read_table('~/aiffel/sentiment_classification/data/ratings_test.txt')\n",
    "\n",
    "train_data.head()"
   ]
  },
  {
   "cell_type": "markdown",
   "id": "2ace490c",
   "metadata": {},
   "source": [
    "## 데이터로더 구성"
   ]
  },
  {
   "cell_type": "code",
   "execution_count": 3,
   "id": "c2d93b16",
   "metadata": {},
   "outputs": [],
   "source": [
    "from konlpy.tag import Mecab\n",
    "import numpy as np\n",
    "from collections import Counter\n",
    "\n",
    "tokenizer = Mecab()\n",
    "stopwords = ['의','가','이','은','들','는','좀','잘','걍','과','도','를','으로','자','에','와','한','하다']\n",
    "num_words = 9996\n",
    "\n",
    "def load_data(train_data, test_data, num_words=num_words):\n",
    "    # 중복데이터 제거\n",
    "    train_data.drop_duplicates(subset=['document'], inplace=True)\n",
    "    test_data.drop_duplicates(subset=['document'], inplace=True)\n",
    "    # 결측치 제거\n",
    "    train_data.dropna(how='any', inplace=True)\n",
    "    test_data.dropna(how='any', inplace=True)\n",
    "    \n",
    "    X_train = []\n",
    "    for sentence in train_data['document']:\n",
    "        temp_X = tokenizer.morphs(sentence) # 토큰화\n",
    "        temp_X = [word for word in temp_X if not word in stopwords] # 불용어 제거\n",
    "        X_train.append(temp_X)\n",
    "\n",
    "    X_test = []\n",
    "    for sentence in test_data['document']:\n",
    "        temp_X = tokenizer.morphs(sentence) # 토큰화\n",
    "        temp_X = [word for word in temp_X if not word in stopwords] # 불용어 제거\n",
    "        X_test.append(temp_X)\n",
    "        \n",
    "    # 사전 구성\n",
    "    words = np.concatenate(X_train).tolist()\n",
    "    counter = Counter(words)\n",
    "    # 가장 많이 나온 단어 9996개\n",
    "    counter = counter.most_common(10000-4)\n",
    "    # 앞의 4개는 특수토큰\n",
    "    vocab = ['<PAD>', '<UNK>', '<SOS>', '<EOS>'] + [key for key, _ in counter]\n",
    "    word_to_index = {word:index for index, word in enumerate(vocab)}\n",
    "    \n",
    "    # 인코딩용\n",
    "    def wordlist_to_indexlist(wordlist):\n",
    "        return [word_to_index[word] if word in word_to_index else word_to_index['<UNK>'] for word in wordlist]\n",
    "    \n",
    "\n",
    "    X_train = list(map(wordlist_to_indexlist, X_train))\n",
    "    X_test = list(map(wordlist_to_indexlist, X_test))\n",
    "        \n",
    "    return (X_train, np.array(list(train_data['label']))), (X_test, np.array(list(test_data['label']))), word_to_index\n",
    "\n",
    "(x_train, y_train), (x_test, y_test), word_to_index = load_data(train_data, test_data)"
   ]
  },
  {
   "cell_type": "code",
   "execution_count": 4,
   "id": "199b109f",
   "metadata": {},
   "outputs": [],
   "source": [
    "# 디코딩 용\n",
    "index_to_word = {index:word for word, index in word_to_index.items()}"
   ]
  },
  {
   "cell_type": "code",
   "execution_count": 5,
   "id": "2c7b9b2d",
   "metadata": {},
   "outputs": [],
   "source": [
    "# 문장 1개를 활용할 딕셔너리와 함께 주면, 단어 인덱스 리스트 벡터로 변환해 주는 함수\n",
    "# 단, 모든 문장은 <SOS>로 시작하는 것으로 간주\n",
    "def get_encoded_sentence(sentence, word_to_index):\n",
    "    return [word_to_index['<SOS>']]+[word_to_index[word] if word in word_to_index else word_to_index['<UNK>'] for word in sentence.split()]\n",
    "\n",
    "# 여러 개의 문장 리스트를 한꺼번에 단어 인덱스 리스트 벡터로 encode해 주는 함수입니다. \n",
    "def get_encoded_sentences(sentences, word_to_index):\n",
    "    return [get_encoded_sentence(sentence, word_to_index) for sentence in sentences]\n",
    "\n",
    "# 숫자 벡터로 encode된 문장을 원래대로 decode하는 함수입니다. \n",
    "def get_decoded_sentence(encoded_sentence, index_to_word):\n",
    "    return ' '.join(index_to_word[index] for index in encoded_sentence[1:])\n",
    "\n",
    "# 여러 개의 숫자 벡터로 encode된 문장을 한꺼번에 원래대로 decode하는 함수입니다. \n",
    "def get_decoded_sentences(encoded_sentences, index_to_word):\n",
    "    return [get_decoded_sentence(encoded_sentence, index_to_word) for encoded_sentence in encoded_sentences]"
   ]
  },
  {
   "cell_type": "markdown",
   "id": "35ebfc15",
   "metadata": {},
   "source": [
    "## 모델 구성을 위한 데이터 분석 및 가공\n",
    "+ 문자 최대 길이 지정\n",
    "+ 패딩 추가"
   ]
  },
  {
   "cell_type": "code",
   "execution_count": 6,
   "id": "803627af",
   "metadata": {},
   "outputs": [
    {
     "name": "stdout",
     "output_type": "stream",
     "text": [
      "문장길이 평균 :  14.98170773419436\n",
      "문장길이 최대 :  115\n",
      "문장길이 표준편차 :  12.82473766384545\n",
      "pad_sequences max length :  47\n",
      "전체 문장의 95.22923478950896%가 maxlen 설정값 이내에 포함.\n"
     ]
    }
   ],
   "source": [
    "# 텍스트데이터 문장길이의 리스트를 생성(SOS토큰은 제거)\n",
    "length_sequences = [len(sequence) - 1 for sequence in x_train]\n",
    "length_sequences = np.array(length_sequences)\n",
    "# 문장길이의 평균값, 최대값, 표준편차를 계산\n",
    "print('문장길이 평균 : ', np.mean(length_sequences))\n",
    "print('문장길이 최대 : ', np.max(length_sequences))\n",
    "print('문장길이 표준편차 : ', np.std(length_sequences))\n",
    "\n",
    "# 예를들어, 최대 길이를 (평균 + 2.5*표준편차)로 한다면,\n",
    "max_length = np.mean(length_sequences) + 2.5 * np.std(length_sequences)\n",
    "max_length = int(max_length)\n",
    "print('pad_sequences max length : ', max_length)\n",
    "print(f'전체 문장의 {np.sum(length_sequences < max_length) / len(length_sequences) * 100}%가 maxlen 설정값 이내에 포함.')\n",
    "\n",
    "# 95번째 백분위수로 최대길이 지정\n",
    "# max_length = int(np.percentile(length_sequences, 95.49))\n",
    "# print(max_length)"
   ]
  },
  {
   "cell_type": "code",
   "execution_count": 7,
   "id": "81fd059d",
   "metadata": {},
   "outputs": [
    {
     "name": "stdout",
     "output_type": "stream",
     "text": [
      "(146182, 47)\n"
     ]
    }
   ],
   "source": [
    "x_train = tf.keras.preprocessing.sequence.pad_sequences(x_train,\n",
    "                                                        value=word_to_index['<PAD>'],\n",
    "                                                        padding='pre',\n",
    "                                                        maxlen=max_length)\n",
    "\n",
    "x_test = tf.keras.preprocessing.sequence.pad_sequences(x_test,\n",
    "                                                        value=word_to_index['<PAD>'],\n",
    "                                                        padding='pre',\n",
    "                                                        maxlen=max_length)\n",
    "\n",
    "print(x_train.shape)"
   ]
  },
  {
   "cell_type": "markdown",
   "id": "a08547ca",
   "metadata": {},
   "source": [
    "## 모델학습 1"
   ]
  },
  {
   "cell_type": "code",
   "execution_count": 8,
   "id": "66b76cc3",
   "metadata": {},
   "outputs": [
    {
     "name": "stdout",
     "output_type": "stream",
     "text": [
      "Model: \"sequential\"\n",
      "_________________________________________________________________\n",
      "Layer (type)                 Output Shape              Param #   \n",
      "=================================================================\n",
      "embedding (Embedding)        (None, 47, 100)           1000000   \n",
      "_________________________________________________________________\n",
      "lstm (LSTM)                  (None, 8)                 3488      \n",
      "_________________________________________________________________\n",
      "dense (Dense)                (None, 8)                 72        \n",
      "_________________________________________________________________\n",
      "dense_1 (Dense)              (None, 1)                 9         \n",
      "=================================================================\n",
      "Total params: 1,003,569\n",
      "Trainable params: 1,003,569\n",
      "Non-trainable params: 0\n",
      "_________________________________________________________________\n"
     ]
    }
   ],
   "source": [
    "vocab_size = 10000\n",
    "# 이후 사전학습 임베딩 모델과 차원을 맞춰주기 위해 100으로 설정\n",
    "word_vector_dim = 100\n",
    "\n",
    "model = tf.keras.Sequential()\n",
    "model.add(tf.keras.layers.Embedding(vocab_size, word_vector_dim, input_shape=(47,)))\n",
    "model.add(tf.keras.layers.LSTM(8))\n",
    "model.add(tf.keras.layers.Dense(8, activation='relu'))\n",
    "model.add(tf.keras.layers.Dense(1, activation='sigmoid'))\n",
    "\n",
    "model.summary()"
   ]
  },
  {
   "cell_type": "code",
   "execution_count": 9,
   "id": "84eca713",
   "metadata": {},
   "outputs": [
    {
     "name": "stdout",
     "output_type": "stream",
     "text": [
      "(116182, 47)\n",
      "(116182,)\n"
     ]
    }
   ],
   "source": [
    "# 검증세트로 대략 20퍼센트 분리\n",
    "x_val = x_train[:30000]\n",
    "y_val = y_train[:30000]\n",
    "\n",
    "# validation set을 제외한 나머지 15000건\n",
    "x_train = x_train[30000:]  \n",
    "y_train = y_train[30000:]\n",
    "\n",
    "print(x_train.shape)\n",
    "print(y_train.shape)"
   ]
  },
  {
   "cell_type": "code",
   "execution_count": 10,
   "id": "03c984d2",
   "metadata": {},
   "outputs": [],
   "source": [
    "model.compile(optimizer='adam',\n",
    "              loss='binary_crossentropy',\n",
    "              metrics=['accuracy'])"
   ]
  },
  {
   "cell_type": "code",
   "execution_count": 11,
   "id": "b330cb4e",
   "metadata": {},
   "outputs": [],
   "source": [
    "epochs=16\n",
    "\n",
    "history = model.fit(x_train,\n",
    "                    y_train,\n",
    "                    epochs=epochs,\n",
    "                    batch_size=512,\n",
    "                    validation_data=(x_val, y_val),\n",
    "                    verbose=0)"
   ]
  },
  {
   "cell_type": "code",
   "execution_count": 12,
   "id": "43477157",
   "metadata": {},
   "outputs": [
    {
     "name": "stdout",
     "output_type": "stream",
     "text": [
      "[0.5513007640838623, 0.8359134793281555]\n"
     ]
    }
   ],
   "source": [
    "# 테스트 점수 출력\n",
    "results = model.evaluate(x_test,  y_test, verbose=0)\n",
    "\n",
    "print(results)"
   ]
  },
  {
   "cell_type": "code",
   "execution_count": 13,
   "id": "82926379",
   "metadata": {},
   "outputs": [
    {
     "data": {
      "image/png": "[encoded data removed]",
      "text/plain": [
       "<Figure size 432x288 with 1 Axes>"
      ]
     },
     "metadata": {
      "needs_background": "light"
     },
     "output_type": "display_data"
    }
   ],
   "source": [
    "train_acc = history.history['accuracy']\n",
    "val_acc = history.history['val_accuracy']\n",
    "train_loss = history.history['loss']\n",
    "val_loss = history.history['val_loss']\n",
    "\n",
    "epochs = range(1, len(train_acc) + 1)\n",
    "\n",
    "# \"bo\"는 \"파란색 점\"\n",
    "plt.plot(epochs, train_loss, 'bo', label='Training loss')\n",
    "# b는 \"파란 실선\"\n",
    "plt.plot(epochs, val_loss, 'b', label='Validation loss')\n",
    "plt.title('Training and validation loss')\n",
    "plt.xlabel('Epochs')\n",
    "plt.ylabel('Loss')\n",
    "plt.legend()\n",
    "\n",
    "plt.show()"
   ]
  },
  {
   "cell_type": "markdown",
   "id": "57706ff5",
   "metadata": {},
   "source": [
    "## 모델학습 2\n",
    "+ 위 모델이 조금 빠르게 과대적합된 면이 있어서 드롭아웃 층을 추가했다."
   ]
  },
  {
   "cell_type": "code",
   "execution_count": 14,
   "id": "1213c709",
   "metadata": {},
   "outputs": [
    {
     "name": "stdout",
     "output_type": "stream",
     "text": [
      "Model: \"sequential_1\"\n",
      "_________________________________________________________________\n",
      "Layer (type)                 Output Shape              Param #   \n",
      "=================================================================\n",
      "embedding_1 (Embedding)      (None, 47, 100)           1000000   \n",
      "_________________________________________________________________\n",
      "lstm_1 (LSTM)                (None, 8)                 3488      \n",
      "_________________________________________________________________\n",
      "dropout (Dropout)            (None, 8)                 0         \n",
      "_________________________________________________________________\n",
      "dense_2 (Dense)              (None, 8)                 72        \n",
      "_________________________________________________________________\n",
      "dropout_1 (Dropout)          (None, 8)                 0         \n",
      "_________________________________________________________________\n",
      "dense_3 (Dense)              (None, 1)                 9         \n",
      "=================================================================\n",
      "Total params: 1,003,569\n",
      "Trainable params: 1,003,569\n",
      "Non-trainable params: 0\n",
      "_________________________________________________________________\n"
     ]
    }
   ],
   "source": [
    "model2 = tf.keras.Sequential()\n",
    "model2.add(tf.keras.layers.Embedding(vocab_size, word_vector_dim, input_shape=(47,)))\n",
    "model2.add(tf.keras.layers.LSTM(8))\n",
    "model2.add(tf.keras.layers.Dropout(0.5))\n",
    "model2.add(tf.keras.layers.Dense(8, activation='relu'))\n",
    "model2.add(tf.keras.layers.Dropout(0.5))\n",
    "model2.add(tf.keras.layers.Dense(1, activation='sigmoid'))\n",
    "\n",
    "model2.summary()"
   ]
  },
  {
   "cell_type": "code",
   "execution_count": 15,
   "id": "e373bde5",
   "metadata": {},
   "outputs": [],
   "source": [
    "model2.compile(optimizer='adam',\n",
    "              loss='binary_crossentropy',\n",
    "              metrics=['accuracy'])"
   ]
  },
  {
   "cell_type": "code",
   "execution_count": 16,
   "id": "039d10f8",
   "metadata": {},
   "outputs": [],
   "source": [
    "epochs=16\n",
    "\n",
    "history2 = model2.fit(x_train,\n",
    "                    y_train,\n",
    "                    epochs=epochs,\n",
    "                    batch_size=512,\n",
    "                    validation_data=(x_val, y_val),\n",
    "                    verbose=0)"
   ]
  },
  {
   "cell_type": "code",
   "execution_count": 17,
   "id": "0df9d19c",
   "metadata": {},
   "outputs": [
    {
     "name": "stdout",
     "output_type": "stream",
     "text": [
      "[0.5279307961463928, 0.8447016477584839]\n"
     ]
    }
   ],
   "source": [
    "# 테스트 점수 출력\n",
    "results = model2.evaluate(x_test,  y_test, verbose=0)\n",
    "\n",
    "print(results)"
   ]
  },
  {
   "cell_type": "code",
   "execution_count": 18,
   "id": "fa3d38c8",
   "metadata": {},
   "outputs": [
    {
     "data": {
      "image/png": "[encoded data removed]",
      "text/plain": [
       "<Figure size 432x288 with 1 Axes>"
      ]
     },
     "metadata": {
      "needs_background": "light"
     },
     "output_type": "display_data"
    }
   ],
   "source": [
    "train_acc = history2.history['accuracy']\n",
    "val_acc = history2.history['val_accuracy']\n",
    "train_loss = history2.history['loss']\n",
    "val_loss = history2.history['val_loss']\n",
    "\n",
    "epochs = range(1, len(train_acc) + 1)\n",
    "\n",
    "# \"bo\"는 \"파란색 점\"\n",
    "plt.plot(epochs, train_loss, 'bo', label='Training loss')\n",
    "# b는 \"파란 실선\"\n",
    "plt.plot(epochs, val_loss, 'b', label='Validation loss')\n",
    "plt.title('Training and validation loss')\n",
    "plt.xlabel('Epochs')\n",
    "plt.ylabel('Loss')\n",
    "plt.legend()\n",
    "\n",
    "plt.show()"
   ]
  },
  {
   "cell_type": "markdown",
   "id": "2cb4390b",
   "metadata": {},
   "source": [
    "## 모델훈련 3\n",
    "+ 어느 정도 개선이 됐지만 그래도 아쉬운 성능이다.\n",
    "+ 모델 용량을 늘리고 옵티마이저는 RMSProp, 에포크 수를 늘리고 조기종료까지 해보자."
   ]
  },
  {
   "cell_type": "code",
   "execution_count": 19,
   "id": "ef8fea91",
   "metadata": {},
   "outputs": [
    {
     "name": "stdout",
     "output_type": "stream",
     "text": [
      "Model: \"sequential_2\"\n",
      "_________________________________________________________________\n",
      "Layer (type)                 Output Shape              Param #   \n",
      "=================================================================\n",
      "embedding_2 (Embedding)      (None, 47, 100)           1000000   \n",
      "_________________________________________________________________\n",
      "lstm_2 (LSTM)                (None, 47, 16)            7488      \n",
      "_________________________________________________________________\n",
      "lstm_3 (LSTM)                (None, 8)                 800       \n",
      "_________________________________________________________________\n",
      "dropout_2 (Dropout)          (None, 8)                 0         \n",
      "_________________________________________________________________\n",
      "dense_4 (Dense)              (None, 16)                144       \n",
      "_________________________________________________________________\n",
      "dropout_3 (Dropout)          (None, 16)                0         \n",
      "_________________________________________________________________\n",
      "dense_5 (Dense)              (None, 1)                 17        \n",
      "=================================================================\n",
      "Total params: 1,008,449\n",
      "Trainable params: 1,008,449\n",
      "Non-trainable params: 0\n",
      "_________________________________________________________________\n"
     ]
    }
   ],
   "source": [
    "model3 = tf.keras.Sequential()\n",
    "model3.add(tf.keras.layers.Embedding(vocab_size, word_vector_dim, input_shape=(47,)))\n",
    "# LSTM 층 추가\n",
    "model3.add(tf.keras.layers.LSTM(16, return_sequences=True)) # 다음층도 LSTM이므로 모든 스텝마다 은닉상태 전달\n",
    "model3.add(tf.keras.layers.LSTM(8))\n",
    "model3.add(tf.keras.layers.Dropout(0.5))\n",
    "# 은닉층 뉴런 수 증가 (8 → 16)\n",
    "model3.add(tf.keras.layers.Dense(16, activation='relu'))\n",
    "model3.add(tf.keras.layers.Dropout(0.5))\n",
    "model3.add(tf.keras.layers.Dense(1, activation='sigmoid'))\n",
    "\n",
    "model3.summary()"
   ]
  },
  {
   "cell_type": "code",
   "execution_count": 20,
   "id": "0d381ee5",
   "metadata": {},
   "outputs": [],
   "source": [
    "# 조기 종료 설정\n",
    "early_stopping = tf.keras.callbacks.EarlyStopping(\n",
    "    monitor='val_loss',\n",
    "    patience=4, # 4번의 에포크동안 개선이 없으면 종료\n",
    "    restore_best_weights=True\n",
    ")\n",
    "\n",
    "model3.compile(\n",
    "    optimizer='rmsprop',\n",
    "    loss='binary_crossentropy',\n",
    "    metrics=['accuracy']\n",
    ")\n",
    "\n",
    "history3 = model3.fit(x_train,\n",
    "                      y_train,\n",
    "                      epochs=30,\n",
    "                      batch_size=512,\n",
    "                      validation_data=(x_val, y_val),\n",
    "                      callbacks=[early_stopping],\n",
    "                      verbose=0\n",
    ")"
   ]
  },
  {
   "cell_type": "code",
   "execution_count": 21,
   "id": "5a6596c4",
   "metadata": {},
   "outputs": [
    {
     "name": "stdout",
     "output_type": "stream",
     "text": [
      "[0.3364587426185608, 0.853062629699707]\n"
     ]
    }
   ],
   "source": [
    "results = model3.evaluate(x_test,  y_test, verbose=0)\n",
    "\n",
    "print(results)"
   ]
  },
  {
   "cell_type": "code",
   "execution_count": 22,
   "id": "fceabcf2",
   "metadata": {},
   "outputs": [
    {
     "data": {
      "image/png": "[encoded data removed]",
      "text/plain": [
       "<Figure size 432x288 with 1 Axes>"
      ]
     },
     "metadata": {
      "needs_background": "light"
     },
     "output_type": "display_data"
    }
   ],
   "source": [
    "train_acc = history3.history['accuracy']\n",
    "val_acc = history3.history['val_accuracy']\n",
    "train_loss = history3.history['loss']\n",
    "val_loss = history3.history['val_loss']\n",
    "\n",
    "epochs = range(1, len(train_acc) + 1)\n",
    "\n",
    "# \"bo\"는 \"파란색 점\"\n",
    "plt.plot(epochs, train_loss, 'bo', label='Training loss')\n",
    "# b는 \"파란 실선\"\n",
    "plt.plot(epochs, val_loss, 'b', label='Validation loss')\n",
    "plt.title('Training and validation loss')\n",
    "plt.xlabel('Epochs')\n",
    "plt.ylabel('Loss')\n",
    "plt.legend()\n",
    "\n",
    "plt.show()"
   ]
  },
  {
   "cell_type": "markdown",
   "id": "b8faac64",
   "metadata": {},
   "source": [
    "## 한국어 Word2Vec 임베딩 활용하여 성능 개선\n",
    "하이퍼 파라미터를 튜닝하여 나름 만족할만한 개선을 이루어낸 것 같다.\n",
    "이제 한국어 Word2Vec 임베딩을 활용하여 조금 더 성능을 개선해보자."
   ]
  },
  {
   "cell_type": "code",
   "execution_count": 23,
   "id": "85429f86",
   "metadata": {},
   "outputs": [
    {
     "name": "stdout",
     "output_type": "stream",
     "text": [
      "Model: \"sequential_2\"\n",
      "_________________________________________________________________\n",
      "Layer (type)                 Output Shape              Param #   \n",
      "=================================================================\n",
      "embedding_2 (Embedding)      (None, 47, 100)           1000000   \n",
      "_________________________________________________________________\n",
      "lstm_2 (LSTM)                (None, 47, 16)            7488      \n",
      "_________________________________________________________________\n",
      "lstm_3 (LSTM)                (None, 8)                 800       \n",
      "_________________________________________________________________\n",
      "dropout_2 (Dropout)          (None, 8)                 0         \n",
      "_________________________________________________________________\n",
      "dense_4 (Dense)              (None, 16)                144       \n",
      "_________________________________________________________________\n",
      "dropout_3 (Dropout)          (None, 16)                0         \n",
      "_________________________________________________________________\n",
      "dense_5 (Dense)              (None, 1)                 17        \n",
      "=================================================================\n",
      "Total params: 1,008,449\n",
      "Trainable params: 1,008,449\n",
      "Non-trainable params: 0\n",
      "_________________________________________________________________\n"
     ]
    }
   ],
   "source": [
    "# 사전학습된 한국어 Word2Vec 모델 가져오기\n",
    "word2vec_ko_path = os.getenv('HOME')+'/data/word2vec_ko.model'\n",
    "ko_model = Word2Vec.load(word2vec_ko_path)\n",
    "ko_vectors = ko_model.wv\n",
    "\n",
    "# 임베딩 매트릭스 생성\n",
    "embedding_matrix = np.zeros((vocab_size, word_vector_dim))\n",
    "\n",
    "# 공통 단어에 대해 사전학습된 임베딩 값 복사\n",
    "for i in range(4, vocab_size):  # 특수 토큰 제외\n",
    "    word = index_to_word[i]\n",
    "    if word in ko_vectors:\n",
    "        embedding_matrix[i] = ko_vectors[word]\n",
    "    # 없는 단어는 0벡터로 유지\n",
    "\n",
    "# 한국어 사전학습 w2v 모델 사용\n",
    "model_w2v = tf.keras.Sequential()\n",
    "model_w2v.add(tf.keras.layers.Embedding(vocab_size,\n",
    "                                        word_vector_dim,\n",
    "                                        embeddings_initializer=tf.keras.initializers.Constant(embedding_matrix),\n",
    "                                        trainable=True,  # 파인튜닝(없는 단어도 학습)\n",
    "                                        input_shape=(47,))\n",
    ")\n",
    "# 이후 모델3와 동일\n",
    "model_w2v.add(tf.keras.layers.LSTM(16, return_sequences=True)) # 다음층도 LSTM이므로 모든 스텝마다 은닉상태 전달\n",
    "model_w2v.add(tf.keras.layers.LSTM(8))\n",
    "model_w2v.add(tf.keras.layers.Dropout(0.5))\n",
    "model_w2v.add(tf.keras.layers.Dense(16, activation='relu'))\n",
    "model_w2v.add(tf.keras.layers.Dropout(0.5))\n",
    "model_w2v.add(tf.keras.layers.Dense(1, activation='sigmoid'))\n",
    "\n",
    "model3.summary()"
   ]
  },
  {
   "cell_type": "code",
   "execution_count": 24,
   "id": "f90596b7",
   "metadata": {},
   "outputs": [],
   "source": [
    "# 조기 종료 설정\n",
    "early_stopping = tf.keras.callbacks.EarlyStopping(\n",
    "    monitor='val_loss',\n",
    "    patience=4, # 4번의 에포크동안 개선이 없으면 종료\n",
    "    restore_best_weights=True\n",
    ")\n",
    "\n",
    "model_w2v.compile(\n",
    "    optimizer='rmsprop',\n",
    "    loss='binary_crossentropy',\n",
    "    metrics=['accuracy']\n",
    ")\n",
    "\n",
    "history4 = model_w2v.fit(x_train,\n",
    "                      y_train,\n",
    "                      epochs=30,\n",
    "                      batch_size=512,\n",
    "                      validation_data=(x_val, y_val),\n",
    "                      callbacks=[early_stopping],\n",
    "                      verbose=0\n",
    ")"
   ]
  },
  {
   "cell_type": "code",
   "execution_count": 25,
   "id": "1582ad40",
   "metadata": {},
   "outputs": [
    {
     "name": "stdout",
     "output_type": "stream",
     "text": [
      "[0.33739981055259705, 0.8560733795166016]\n"
     ]
    }
   ],
   "source": [
    "results = model_w2v.evaluate(x_test,  y_test, verbose=0)\n",
    "\n",
    "print(results)"
   ]
  },
  {
   "cell_type": "markdown",
   "id": "2e14019e",
   "metadata": {},
   "source": [
    "테스트셋에 대해 감성분석 정확도 85%를 달성했다."
   ]
  },
  {
   "cell_type": "code",
   "execution_count": 26,
   "id": "3519dfcb",
   "metadata": {},
   "outputs": [
    {
     "data": {
      "image/png": "[encoded data removed]",
      "text/plain": [
       "<Figure size 432x288 with 1 Axes>"
      ]
     },
     "metadata": {
      "needs_background": "light"
     },
     "output_type": "display_data"
    }
   ],
   "source": [
    "train_acc = history4.history['accuracy']\n",
    "val_acc = history4.history['val_accuracy']\n",
    "train_loss = history4.history['loss']\n",
    "val_loss = history4.history['val_loss']\n",
    "\n",
    "epochs = range(1, len(train_acc) + 1)\n",
    "\n",
    "# \"bo\"는 \"파란색 점\"\n",
    "plt.plot(epochs, train_loss, 'bo', label='Training loss')\n",
    "# b는 \"파란 실선\"\n",
    "plt.plot(epochs, val_loss, 'b', label='Validation loss')\n",
    "plt.title('Training and validation loss')\n",
    "plt.xlabel('Epochs')\n",
    "plt.ylabel('Loss')\n",
    "plt.legend()\n",
    "\n",
    "plt.show()"
   ]
  },
  {
   "cell_type": "markdown",
   "id": "691323d5",
   "metadata": {},
   "source": [
    "사전학습된 모델은 우리의 task에 최적화된 모델이 아니기에 초반 loss는 높은 걸 확인할 수 있다. 그리고 학습을 통해 파인튜닝하여 최적점을 찾아가는 모습이다."
   ]
  },
  {
   "cell_type": "markdown",
   "id": "b401c866",
   "metadata": {},
   "source": [
    "## 학습된 Embedding Layer와 사전학습된 W2V 비교분석"
   ]
  },
  {
   "cell_type": "code",
   "execution_count": 27,
   "id": "5f05c1fa",
   "metadata": {},
   "outputs": [],
   "source": [
    "# 학습한 Embedding 파라미터를 파일에 써서 저장\n",
    "word2vec_file_path = os.getenv('HOME')+'/aiffel/sentiment_classification/data/word2vec.txt'\n",
    "f = open(word2vec_file_path, 'w')\n",
    "f.write('{} {}\\n'.format(vocab_size-4, word_vector_dim))  # 몇개의 벡터를 얼마 사이즈로 기재할지 타이틀을 작성\n",
    "\n",
    "# 단어 개수(에서 특수문자 4개는 제외하고)만큼의 워드 벡터를 파일에 기록 \n",
    "vectors = model3.get_weights()[0]\n",
    "for i in range(4,vocab_size):\n",
    "    f.write('{} {}\\n'.format(index_to_word[i], ' '.join(map(str, list(vectors[i, :])))))\n",
    "f.close()"
   ]
  },
  {
   "cell_type": "code",
   "execution_count": 28,
   "id": "712b7de7",
   "metadata": {},
   "outputs": [
    {
     "data": {
      "text/plain": [
       "array([ 4.26183678e-02, -3.80998664e-03, -5.44796092e-03, -2.83974204e-02,\n",
       "        8.24745372e-02, -3.18700187e-02, -1.87006846e-01,  6.42808601e-02,\n",
       "        1.63566098e-02,  4.32692021e-02,  7.13987425e-02,  8.44791979e-02,\n",
       "       -3.00650019e-02,  8.27155039e-02,  3.70950438e-02, -1.52603649e-02,\n",
       "       -3.65696140e-02, -2.41029486e-02,  1.37392297e-01,  6.17831051e-02,\n",
       "        1.71684176e-02,  1.70636866e-02,  2.24639289e-02, -1.12786144e-02,\n",
       "       -9.53260586e-02,  1.32895075e-02, -1.10634812e-03,  4.96632280e-03,\n",
       "        4.54577208e-02,  4.19912534e-03,  2.24992502e-02, -5.16327433e-02,\n",
       "       -3.86069678e-02, -4.71207276e-02, -7.42425993e-02,  1.75656810e-01,\n",
       "       -9.42245591e-03, -7.34341517e-02, -1.86882671e-02, -8.04029033e-02,\n",
       "        4.64935340e-02, -5.95331118e-02,  4.51091938e-02,  2.24639401e-02,\n",
       "        4.77222167e-03, -4.20871750e-02,  1.36096343e-01,  8.55394453e-02,\n",
       "        2.51043867e-02,  6.75039813e-02, -9.43764672e-02,  6.12974130e-02,\n",
       "        1.48327753e-01, -5.71941622e-02,  2.05258868e-04,  3.22349928e-02,\n",
       "       -4.21142988e-02, -7.12483972e-02,  1.12120613e-01, -2.86945663e-02,\n",
       "       -1.24322185e-02,  6.09463193e-02, -5.11038229e-02,  3.84320021e-02,\n",
       "       -6.04977123e-02, -4.73489836e-02,  1.11278497e-01,  4.33939099e-02,\n",
       "       -7.06296265e-02,  1.46118440e-02, -3.40964645e-03, -1.48131037e-02,\n",
       "       -6.29175305e-02, -8.74849409e-02, -5.93473297e-03,  3.65906358e-02,\n",
       "       -1.85014427e-01,  9.25167799e-02, -2.11638823e-01, -8.00762624e-02,\n",
       "       -7.46345054e-03,  5.03761694e-02, -4.86222357e-02, -1.02636274e-02,\n",
       "        4.24368940e-02,  9.52439290e-03, -1.24365510e-02, -2.41301373e-01,\n",
       "       -6.04120307e-02, -1.19198926e-01,  7.94666559e-02,  1.04970925e-01,\n",
       "        3.74924056e-02, -6.81464076e-02, -1.60176074e-03, -1.06930993e-01,\n",
       "       -4.09009978e-02, -7.64802545e-02,  1.18946590e-01, -3.26757319e-02],\n",
       "      dtype=float32)"
      ]
     },
     "execution_count": 28,
     "metadata": {},
     "output_type": "execute_result"
    }
   ],
   "source": [
    "word_vectors = Word2VecKeyedVectors.load_word2vec_format(word2vec_file_path, binary=False)\n",
    "# 재미에 대한 임베딩 벡터 출력\n",
    "vector = word_vectors['재미']\n",
    "vector"
   ]
  },
  {
   "cell_type": "markdown",
   "id": "bcb00d69",
   "metadata": {},
   "source": [
    "영화와 관련된 텍스트인 재미, 눈물, 배우라는 키워드로 각 단어와 유사한 단어들을 비교해보았다.\n",
    "사전학습된 임베딩 모델이 훨씬 유사한 단어를 많이 보여준 것을 확인할 수 있었다."
   ]
  },
  {
   "cell_type": "markdown",
   "id": "a5e7b759",
   "metadata": {},
   "source": [
    "재미"
   ]
  },
  {
   "cell_type": "code",
   "execution_count": 29,
   "id": "25f24163",
   "metadata": {},
   "outputs": [
    {
     "name": "stdout",
     "output_type": "stream",
     "text": [
      "[('너무', 0.8360869884490967), ('완전', 0.7940289378166199), ('이리', 0.7923863530158997), ('넘', 0.7525584697723389), ('가치', 0.7518238425254822), ('이렇게', 0.7510848641395569), ('스릴', 0.7242820262908936), ('흥미', 0.7062549591064453), ('연기력', 0.7021557688713074), ('왤케', 0.7018789649009705)]\n"
     ]
    }
   ],
   "source": [
    "print(word_vectors.similar_by_word('재미'))"
   ]
  },
  {
   "cell_type": "code",
   "execution_count": 30,
   "id": "57647dd7",
   "metadata": {},
   "outputs": [
    {
     "name": "stdout",
     "output_type": "stream",
     "text": [
      "[('묘미', 0.6163142919540405), ('취미', 0.6034970283508301), ('흥미', 0.5939850211143494), ('유머', 0.5888698101043701), ('보람', 0.5689517259597778), ('즐거움', 0.5631207823753357), ('개그', 0.5552946329116821), ('이야기', 0.5536993741989136), ('연애', 0.552293598651886), ('열의', 0.546456515789032)]\n"
     ]
    }
   ],
   "source": [
    "print(ko_vectors.most_similar('재미', topn=10))"
   ]
  },
  {
   "cell_type": "markdown",
   "id": "9131976d",
   "metadata": {},
   "source": [
    "눈물"
   ]
  },
  {
   "cell_type": "code",
   "execution_count": 31,
   "id": "85c28e8d",
   "metadata": {},
   "outputs": [
    {
     "name": "stdout",
     "output_type": "stream",
     "text": [
      "[('very', 0.945076048374176), ('멋져요', 0.943089485168457), ('짱짱', 0.9429879784584045), ('명화', 0.9410014152526855), ('완소', 0.9408244490623474), ('명불허전', 0.9401829242706299), ('즐거웠', 0.9389277696609497), ('멋져', 0.93860924243927), ('명작', 0.9385954141616821), ('good', 0.9384078979492188)]\n"
     ]
    }
   ],
   "source": [
    "print(word_vectors.similar_by_word('눈물'))"
   ]
  },
  {
   "cell_type": "code",
   "execution_count": 32,
   "id": "9fe3deb5",
   "metadata": {},
   "outputs": [
    {
     "name": "stdout",
     "output_type": "stream",
     "text": [
      "[('웃음', 0.7543492317199707), ('슬픔', 0.7267216444015503), ('한숨', 0.7182712554931641), ('피눈물', 0.7141152024269104), ('땀', 0.7121106386184692), ('이별', 0.695806622505188), ('가슴', 0.6698150038719177), ('기쁨', 0.657920241355896), ('머리카락', 0.6576725840568542), ('꿈', 0.6558417677879333)]\n"
     ]
    }
   ],
   "source": [
    "print(ko_vectors.most_similar('눈물', topn=10))"
   ]
  },
  {
   "cell_type": "markdown",
   "id": "8b7a125b",
   "metadata": {},
   "source": [
    "배우"
   ]
  },
  {
   "cell_type": "code",
   "execution_count": 33,
   "id": "ac6a01da",
   "metadata": {},
   "outputs": [
    {
     "name": "stdout",
     "output_type": "stream",
     "text": [
      "[('이렇게', 0.5109687447547913), ('보여', 0.4939647912979126), ('예술', 0.48783910274505615), ('너무', 0.48567572236061096), ('재미', 0.4850325584411621), ('는군요', 0.47953104972839355), ('기에', 0.46994248032569885), ('기대', 0.46984878182411194), ('쟈', 0.4682946801185608), ('바로', 0.4670015275478363)]\n"
     ]
    }
   ],
   "source": [
    "print(word_vectors.similar_by_word('배우'))"
   ]
  },
  {
   "cell_type": "code",
   "execution_count": 34,
   "id": "6cf96f3a",
   "metadata": {},
   "outputs": [
    {
     "name": "stdout",
     "output_type": "stream",
     "text": [
      "[('가수', 0.7729029655456543), ('코미디언', 0.7728644609451294), ('만화가', 0.749615490436554), ('영화배우', 0.7441834211349487), ('여배우', 0.7411354184150696), ('연출가', 0.7396705746650696), ('극작가', 0.7209770679473877), ('삽화가', 0.7152643799781799), ('안무가', 0.7149248123168945), ('무용가', 0.7118033766746521)]\n"
     ]
    }
   ],
   "source": [
    "print(ko_vectors.most_similar('배우', topn=10))"
   ]
  },
  {
   "cell_type": "markdown",
   "id": "aacc1703",
   "metadata": {},
   "source": [
    "## 회고\n",
    "+ 텍스트를 다루는 건 생각보다 신경쓸 부분이 많은 것 같다.\n",
    "+ 확실히 사전학습 임베딩 모델이 좋긴하다.\n",
    "+ 드롭아웃도 신경망에선 굉장히 중요한 것 같다. 드롭아웃만 적용해도 과대적합이 많이 줄었다."
   ]
  }
 ],
 "metadata": {
  "kernelspec": {
   "display_name": "Python 3 (ipykernel)",
   "language": "python",
   "name": "python3"
  },
  "language_info": {
   "codemirror_mode": {
    "name": "ipython",
    "version": 3
   },
   "file_extension": ".py",
   "mimetype": "text/x-python",
   "name": "python",
   "nbconvert_exporter": "python",
   "pygments_lexer": "ipython3",
   "version": "3.9.7"
  }
 },
 "nbformat": 4,
 "nbformat_minor": 5
}
