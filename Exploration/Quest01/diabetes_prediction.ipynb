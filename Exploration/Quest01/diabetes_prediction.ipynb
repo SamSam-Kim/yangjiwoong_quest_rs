{
 "cells": [
  {
   "cell_type": "markdown",
   "metadata": {
    "id": "fl17hCH5tpTp"
   },
   "source": [
    "## 모듈 불러오기"
   ]
  },
  {
   "cell_type": "code",
   "execution_count": 1,
   "metadata": {
    "id": "_zXi9O8EtoDu"
   },
   "outputs": [],
   "source": [
    "from sklearn.datasets import load_diabetes\n",
    "from sklearn.model_selection import train_test_split\n",
    "import numpy as np\n",
    "import matplotlib.pyplot as plt"
   ]
  },
  {
   "cell_type": "markdown",
   "metadata": {
    "id": "TC1nkemNolJu"
   },
   "source": [
    "## 데이터 가져오기 및 테스트 셋 분리"
   ]
  },
  {
   "cell_type": "code",
   "execution_count": 2,
   "metadata": {
    "id": "LjL75unanQ4l"
   },
   "outputs": [],
   "source": [
    "data = load_diabetes()\n",
    "\n",
    "n_features = len(data.feature_names)\n",
    "df_X = data.data\n",
    "df_y = data.target\n",
    "\n",
    "X_train, X_test, y_train, y_test = train_test_split(df_X, df_y, test_size=0.2, random_state=42)"
   ]
  },
  {
   "cell_type": "markdown",
   "metadata": {
    "id": "ohZaDkqvJY5A"
   },
   "source": [
    "## 손실함수 정의"
   ]
  },
  {
   "cell_type": "code",
   "execution_count": 3,
   "metadata": {
    "id": "GF0HAugvJcaD"
   },
   "outputs": [],
   "source": [
    "def MSE(y_pred, y):\n",
    "  mse = ((y_pred - y) ** 2).mean()\n",
    "  return mse\n",
    "\n",
    "def loss(y_pred, y):\n",
    "  return MSE(y_pred, y)"
   ]
  },
  {
   "cell_type": "markdown",
   "metadata": {
    "id": "GPT75zlStCAR"
   },
   "source": [
    "## 선형회귀 모델 정의"
   ]
  },
  {
   "cell_type": "code",
   "execution_count": 4,
   "metadata": {
    "id": "CpwJ8rSWtGT_"
   },
   "outputs": [],
   "source": [
    "class LinearModel:\n",
    "  def __init__(self, n_features):\n",
    "    self.W = np.random.rand(n_features)\n",
    "    self.b = np.random.rand()\n",
    "    self.n_weights = n_features\n",
    "\n",
    "  def gradient(self, X, y):\n",
    "      # 데이터 수\n",
    "      N = len(y)\n",
    "\n",
    "      y_pred = self.predict(X)\n",
    "      dw = (1 / N) * 2 * X.T.dot(y_pred - y)\n",
    "      db = (1 / N) * 2 * (y_pred - y).sum()\n",
    "\n",
    "      return dw, db\n",
    "\n",
    "  def fit(self, X, y, learning_rate):\n",
    "    # 가중치 업데이트\n",
    "    dW, db = self.gradient(X, y)\n",
    "    self.W -= learning_rate * dW\n",
    "    self.b -= learning_rate * db\n",
    "\n",
    "    # loss값 계산\n",
    "    y_pred = self.predict(X)\n",
    "    L = loss(y_pred, y)\n",
    "    return L\n",
    "\n",
    "  def predict(self, X):\n",
    "    return X.dot(self.W) + self.b"
   ]
  },
  {
   "cell_type": "markdown",
   "metadata": {
    "id": "3DUcIW8f82gf"
   },
   "source": [
    "## 훈련"
   ]
  },
  {
   "cell_type": "code",
   "execution_count": 5,
   "metadata": {
    "colab": {
     "base_uri": "https://localhost:8080/"
    },
    "id": "3TtyK6cm-G51",
    "outputId": "9100da69-6199-4a87-dce1-53a978fa77f8"
   },
   "outputs": [
    {
     "name": "stdout",
     "output_type": "stream",
     "text": [
      "Iteration 100 : Loss 5381.8843\n",
      "Iteration 200 : Loss 4879.0338\n",
      "Iteration 300 : Loss 4505.1279\n",
      "Iteration 400 : Loss 4223.4054\n",
      "Iteration 500 : Loss 4008.0051\n",
      "Iteration 600 : Loss 3840.6891\n",
      "Iteration 700 : Loss 3708.5560\n",
      "Iteration 800 : Loss 3602.4445\n",
      "Iteration 900 : Loss 3515.8179\n",
      "Iteration 1000 : Loss 3443.9848\n",
      "Iteration 1100 : Loss 3383.5543\n",
      "Iteration 1200 : Loss 3332.0544\n",
      "Iteration 1300 : Loss 3287.6648\n",
      "Iteration 1400 : Loss 3249.0294\n",
      "Iteration 1500 : Loss 3215.1247\n",
      "Iteration 1600 : Loss 3185.1668\n",
      "Iteration 1700 : Loss 3158.5461\n",
      "Iteration 1800 : Loss 3134.7810\n",
      "Iteration 1900 : Loss 3113.4844\n",
      "Iteration 2000 : Loss 3094.3407\n",
      "Iteration 2100 : Loss 3077.0884\n",
      "Iteration 2200 : Loss 3061.5080\n",
      "Iteration 2300 : Loss 3047.4129\n",
      "Iteration 2400 : Loss 3034.6425\n",
      "Iteration 2500 : Loss 3023.0580\n",
      "Iteration 2600 : Loss 3012.5376\n",
      "Iteration 2700 : Loss 3002.9745\n",
      "Iteration 2800 : Loss 2994.2740\n",
      "Iteration 2900 : Loss 2986.3521\n",
      "Iteration 3000 : Loss 2979.1338\n"
     ]
    }
   ],
   "source": [
    "lr = LinearModel(n_features)\n",
    "\n",
    "learning_rate = 0.1\n",
    "losses = []\n",
    "\n",
    "for i in range(1, 3001):\n",
    "  lr_loss = lr.fit(X_train, y_train, learning_rate)\n",
    "  losses.append(lr_loss)\n",
    "  if i % 100 == 0:\n",
    "      print('Iteration %d : Loss %0.4f' % (i, lr_loss))"
   ]
  },
  {
   "cell_type": "markdown",
   "metadata": {
    "id": "52BOB3BCJsvt"
   },
   "source": [
    "# 테스트 셋 mse"
   ]
  },
  {
   "cell_type": "code",
   "execution_count": 6,
   "metadata": {
    "colab": {
     "base_uri": "https://localhost:8080/"
    },
    "id": "l3iY7M_UHmQB",
    "outputId": "2dc97c3b-f5f1-4356-cb81-0187b8722257"
   },
   "outputs": [
    {
     "data": {
      "text/plain": [
       "2870.309505727748"
      ]
     },
     "execution_count": 6,
     "metadata": {},
     "output_type": "execute_result"
    }
   ],
   "source": [
    "prediction = lr.predict(X_test)\n",
    "mse = loss(prediction, y_test)\n",
    "mse"
   ]
  },
  {
   "cell_type": "markdown",
   "metadata": {
    "id": "UiPfnLvXJ8Me"
   },
   "source": [
    "# 예측 시각화"
   ]
  },
  {
   "cell_type": "code",
   "execution_count": 7,
   "metadata": {
    "colab": {
     "base_uri": "https://localhost:8080/",
     "height": 430
    },
    "id": "K9WFKv8uID7i",
    "outputId": "d888e4bb-4ef5-41f0-d78e-1f2532f9ee9e"
   },
   "outputs": [
    {
     "data": {
      "image/png": "[encoded data removed]",
      "text/plain": [
       "<Figure size 432x288 with 1 Axes>"
      ]
     },
     "metadata": {
      "needs_background": "light"
     },
     "output_type": "display_data"
    }
   ],
   "source": [
    "plt.scatter(X_test[:, 0], y_test)\n",
    "plt.scatter(X_test[:, 0], prediction)\n",
    "plt.show()"
   ]
  },
  {
   "cell_type": "markdown",
   "metadata": {
    "id": "W-e9wuQFsbf-"
   },
   "source": []
  }
 ],
 "metadata": {
  "colab": {
   "collapsed_sections": [
    "fl17hCH5tpTp"
   ],
   "provenance": []
  },
  "kernelspec": {
   "display_name": "Python 3 (ipykernel)",
   "language": "python",
   "name": "python3"
  },
  "language_info": {
   "codemirror_mode": {
    "name": "ipython",
    "version": 3
   },
   "file_extension": ".py",
   "mimetype": "text/x-python",
   "name": "python",
   "nbconvert_exporter": "python",
   "pygments_lexer": "ipython3",
   "version": "3.9.7"
  }
 },
 "nbformat": 4,
 "nbformat_minor": 1
}
