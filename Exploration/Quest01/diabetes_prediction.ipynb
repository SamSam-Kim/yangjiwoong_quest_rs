{
 "cells": [
  {
   "cell_type": "markdown",
   "metadata": {
    "id": "fl17hCH5tpTp"
   },
   "source": [
    "## 모듈 불러오기"
   ]
  },
  {
   "cell_type": "code",
   "execution_count": 1,
   "metadata": {
    "id": "_zXi9O8EtoDu"
   },
   "outputs": [],
   "source": [
    "from sklearn.datasets import load_diabetes\n",
    "from sklearn.model_selection import train_test_split\n",
    "import numpy as np\n",
    "import matplotlib.pyplot as plt"
   ]
  },
  {
   "cell_type": "markdown",
   "metadata": {
    "id": "TC1nkemNolJu"
   },
   "source": [
    "## 데이터 가져오기 및 테스트 셋 분리"
   ]
  },
  {
   "cell_type": "code",
   "execution_count": 2,
   "metadata": {
    "id": "LjL75unanQ4l"
   },
   "outputs": [],
   "source": [
    "data = load_diabetes()\n",
    "\n",
    "df_X = data.data\n",
    "df_y = data.target\n",
    "\n",
    "X_train, X_test, y_train, y_test = train_test_split(df_X, df_y, test_size=0.2, random_state=42)"
   ]
  },
  {
   "cell_type": "markdown",
   "metadata": {
    "id": "ohZaDkqvJY5A"
   },
   "source": [
    "## 손실함수 정의"
   ]
  },
  {
   "cell_type": "code",
   "execution_count": 3,
   "metadata": {
    "id": "GF0HAugvJcaD"
   },
   "outputs": [],
   "source": [
    "def MSE(y_pred, y):\n",
    "  mse = ((y_pred - y) ** 2).mean()\n",
    "  return mse\n",
    "\n",
    "def loss(y_pred, y):\n",
    "  return MSE(y_pred, y)"
   ]
  },
  {
   "cell_type": "markdown",
   "metadata": {
    "id": "GPT75zlStCAR"
   },
   "source": [
    "## 선형회귀 모델 정의\n",
    "- 가중치는 모델의 내부 속성이기에 선형회귀 모델을 클래스로 정의\n",
    "- fit으로 학습, predict로 예측"
   ]
  },
  {
   "cell_type": "code",
   "execution_count": 4,
   "metadata": {
    "id": "CpwJ8rSWtGT_"
   },
   "outputs": [],
   "source": [
    "class LinearModel:\n",
    "  def __init__(self, n_features):\n",
    "    self.W = np.random.rand(n_features)\n",
    "    self.b = np.random.rand()\n",
    "\n",
    "  def gradient(self, X, y):\n",
    "      # 데이터 수\n",
    "      N = len(y)\n",
    "\n",
    "      y_pred = self.predict(X)\n",
    "      dw = (1 / N) * 2 * X.T.dot(y_pred - y)\n",
    "      db = (1 / N) * 2 * (y_pred - y).sum()\n",
    "\n",
    "      return dw, db\n",
    "\n",
    "  def fit(self, X, y, learning_rate):\n",
    "    # 그레디언트 계산\n",
    "    dW, db = self.gradient(X, y)\n",
    "    # 가중치 업데이트\n",
    "    self.W -= learning_rate * dW\n",
    "    self.b -= learning_rate * db\n",
    "\n",
    "    # 학습 후 loss값을 계산하여 리턴\n",
    "    y_pred = self.predict(X)\n",
    "    L = loss(y_pred, y)\n",
    "    return L\n",
    "\n",
    "  def predict(self, X):\n",
    "    # X는 행렬 self.W를 벡터이기에 dot()를 사용하면 행렬곱 연산을 수행\n",
    "    # 계산 결과는 벡터로 각 샘플마다 예측값을 저장하여 리턴\n",
    "    return X.dot(self.W) + self.b"
   ]
  },
  {
   "cell_type": "markdown",
   "metadata": {
    "id": "3DUcIW8f82gf"
   },
   "source": [
    "## 훈련\n",
    "- 훈련시 learning_rate를 너무 낮게하면 오차가 너무 크게 나옴\n",
    "- 따라서 학습률을 0.1 정도로 조절하고 epoch를 3000으로 올리니 loss가 3000 밑으로 내려감"
   ]
  },
  {
   "cell_type": "code",
   "execution_count": 5,
   "metadata": {
    "colab": {
     "base_uri": "https://localhost:8080/"
    },
    "id": "3TtyK6cm-G51",
    "outputId": "9100da69-6199-4a87-dce1-53a978fa77f8"
   },
   "outputs": [
    {
     "name": "stdout",
     "output_type": "stream",
     "text": [
      "Iteration 100 : Loss 5377.6194\n",
      "Iteration 200 : Loss 4875.6756\n",
      "Iteration 300 : Loss 4502.4389\n",
      "Iteration 400 : Loss 4221.2164\n",
      "Iteration 500 : Loss 4006.1943\n",
      "Iteration 600 : Loss 3839.1686\n",
      "Iteration 700 : Loss 3707.2618\n",
      "Iteration 800 : Loss 3601.3294\n",
      "Iteration 900 : Loss 3514.8468\n",
      "Iteration 1000 : Loss 3443.1314\n",
      "Iteration 1100 : Loss 3382.7984\n",
      "Iteration 1200 : Loss 3331.3805\n",
      "Iteration 1300 : Loss 3287.0606\n",
      "Iteration 1400 : Loss 3248.4851\n",
      "Iteration 1500 : Loss 3214.6324\n",
      "Iteration 1600 : Loss 3184.7200\n",
      "Iteration 1700 : Loss 3158.1394\n",
      "Iteration 1800 : Loss 3134.4098\n",
      "Iteration 1900 : Loss 3113.1449\n",
      "Iteration 2000 : Loss 3094.0296\n",
      "Iteration 2100 : Loss 3076.8028\n",
      "Iteration 2200 : Loss 3061.2453\n",
      "Iteration 2300 : Loss 3047.1708\n",
      "Iteration 2400 : Loss 3034.4192\n",
      "Iteration 2500 : Loss 3022.8516\n",
      "Iteration 2600 : Loss 3012.3467\n",
      "Iteration 2700 : Loss 3002.7977\n",
      "Iteration 2800 : Loss 2994.1101\n",
      "Iteration 2900 : Loss 2986.1999\n",
      "Iteration 3000 : Loss 2978.9923\n"
     ]
    }
   ],
   "source": [
    "# 모델에 특성 수도 함께 전달\n",
    "lr = LinearModel(X_train.shape[1])\n",
    "\n",
    "learning_rate = 0.1\n",
    "losses = []\n",
    "\n",
    "for i in range(1, 3001):\n",
    "  lr_loss = lr.fit(X_train, y_train, learning_rate)\n",
    "  losses.append(lr_loss)\n",
    "  if i % 100 == 0:\n",
    "      print('Iteration %d : Loss %0.4f' % (i, lr_loss))"
   ]
  },
  {
   "cell_type": "markdown",
   "metadata": {
    "id": "52BOB3BCJsvt"
   },
   "source": [
    "# 테스트 셋 mse"
   ]
  },
  {
   "cell_type": "code",
   "execution_count": 6,
   "metadata": {
    "colab": {
     "base_uri": "https://localhost:8080/"
    },
    "id": "l3iY7M_UHmQB",
    "outputId": "2dc97c3b-f5f1-4356-cb81-0187b8722257"
   },
   "outputs": [
    {
     "data": {
      "text/plain": [
       "2870.5847168744217"
      ]
     },
     "execution_count": 6,
     "metadata": {},
     "output_type": "execute_result"
    }
   ],
   "source": [
    "prediction = lr.predict(X_test)\n",
    "# test set에 대한 mse\n",
    "mse = loss(prediction, y_test)\n",
    "mse"
   ]
  },
  {
   "cell_type": "markdown",
   "metadata": {
    "id": "UiPfnLvXJ8Me"
   },
   "source": [
    "# 예측 시각화"
   ]
  },
  {
   "cell_type": "code",
   "execution_count": 7,
   "metadata": {
    "colab": {
     "base_uri": "https://localhost:8080/",
     "height": 430
    },
    "id": "K9WFKv8uID7i",
    "outputId": "d888e4bb-4ef5-41f0-d78e-1f2532f9ee9e"
   },
   "outputs": [
    {
     "data": {
      "image/png": "[encoded data removed]",
      "text/plain": [
       "<Figure size 432x288 with 1 Axes>"
      ]
     },
     "metadata": {
      "needs_background": "light"
     },
     "output_type": "display_data"
    }
   ],
   "source": [
    "# 실제 y값\n",
    "plt.scatter(X_test[:, 0], y_test)\n",
    "# 예측 y값\n",
    "plt.scatter(X_test[:, 0], prediction)\n",
    "plt.show()"
   ]
  },
  {
   "cell_type": "markdown",
   "metadata": {
    "id": "W-e9wuQFsbf-"
   },
   "source": []
  }
 ],
 "metadata": {
  "colab": {
   "collapsed_sections": [
    "fl17hCH5tpTp"
   ],
   "provenance": []
  },
  "kernelspec": {
   "display_name": "Python 3 (ipykernel)",
   "language": "python",
   "name": "python3"
  },
  "language_info": {
   "codemirror_mode": {
    "name": "ipython",
    "version": 3
   },
   "file_extension": ".py",
   "mimetype": "text/x-python",
   "name": "python",
   "nbconvert_exporter": "python",
   "pygments_lexer": "ipython3",
   "version": "3.9.7"
  }
 },
 "nbformat": 4,
 "nbformat_minor": 1
}
