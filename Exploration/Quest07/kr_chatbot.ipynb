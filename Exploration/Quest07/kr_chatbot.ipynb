{
 "cells": [
  {
   "cell_type": "code",
   "execution_count": 1,
   "id": "af829f3c",
   "metadata": {},
   "outputs": [],
   "source": [
    "import tensorflow as tf\n",
    "import tensorflow_datasets as tfds\n",
    "import os\n",
    "import re\n",
    "import numpy as np\n",
    "import pandas as pd\n",
    "import re\n",
    "import matplotlib.pyplot as plt\n",
    "import tensorflow_datasets as tfds"
   ]
  },
  {
   "cell_type": "markdown",
   "id": "62686c28",
   "metadata": {},
   "source": [
    "## csv 파일 로드 및 전처리"
   ]
  },
  {
   "cell_type": "code",
   "execution_count": 2,
   "id": "45232058",
   "metadata": {},
   "outputs": [
    {
     "name": "stdout",
     "output_type": "stream",
     "text": [
      "<class 'pandas.core.frame.DataFrame'>\n",
      "RangeIndex: 11823 entries, 0 to 11822\n",
      "Data columns (total 3 columns):\n",
      " #   Column  Non-Null Count  Dtype \n",
      "---  ------  --------------  ----- \n",
      " 0   Q       11823 non-null  object\n",
      " 1   A       11823 non-null  object\n",
      " 2   label   11823 non-null  int64 \n",
      "dtypes: int64(1), object(2)\n",
      "memory usage: 277.2+ KB\n"
     ]
    },
    {
     "data": {
      "text/html": [
       "<div>\n",
       "<style scoped>\n",
       "    .dataframe tbody tr th:only-of-type {\n",
       "        vertical-align: middle;\n",
       "    }\n",
       "\n",
       "    .dataframe tbody tr th {\n",
       "        vertical-align: top;\n",
       "    }\n",
       "\n",
       "    .dataframe thead th {\n",
       "        text-align: right;\n",
       "    }\n",
       "</style>\n",
       "<table border=\"1\" class=\"dataframe\">\n",
       "  <thead>\n",
       "    <tr style=\"text-align: right;\">\n",
       "      <th></th>\n",
       "      <th>Q</th>\n",
       "      <th>A</th>\n",
       "      <th>label</th>\n",
       "    </tr>\n",
       "  </thead>\n",
       "  <tbody>\n",
       "    <tr>\n",
       "      <th>0</th>\n",
       "      <td>12시 땡!</td>\n",
       "      <td>하루가 또 가네요.</td>\n",
       "      <td>0</td>\n",
       "    </tr>\n",
       "    <tr>\n",
       "      <th>1</th>\n",
       "      <td>1지망 학교 떨어졌어</td>\n",
       "      <td>위로해 드립니다.</td>\n",
       "      <td>0</td>\n",
       "    </tr>\n",
       "    <tr>\n",
       "      <th>2</th>\n",
       "      <td>3박4일 놀러가고 싶다</td>\n",
       "      <td>여행은 언제나 좋죠.</td>\n",
       "      <td>0</td>\n",
       "    </tr>\n",
       "    <tr>\n",
       "      <th>3</th>\n",
       "      <td>3박4일 정도 놀러가고 싶다</td>\n",
       "      <td>여행은 언제나 좋죠.</td>\n",
       "      <td>0</td>\n",
       "    </tr>\n",
       "    <tr>\n",
       "      <th>4</th>\n",
       "      <td>PPL 심하네</td>\n",
       "      <td>눈살이 찌푸려지죠.</td>\n",
       "      <td>0</td>\n",
       "    </tr>\n",
       "  </tbody>\n",
       "</table>\n",
       "</div>"
      ],
      "text/plain": [
       "                 Q            A  label\n",
       "0           12시 땡!   하루가 또 가네요.      0\n",
       "1      1지망 학교 떨어졌어    위로해 드립니다.      0\n",
       "2     3박4일 놀러가고 싶다  여행은 언제나 좋죠.      0\n",
       "3  3박4일 정도 놀러가고 싶다  여행은 언제나 좋죠.      0\n",
       "4          PPL 심하네   눈살이 찌푸려지죠.      0"
      ]
     },
     "execution_count": 2,
     "metadata": {},
     "output_type": "execute_result"
    }
   ],
   "source": [
    "csv_path = os.getenv('HOME') + '/aiffel/transformer_chatbot/data/ChatbotData_.csv'\n",
    "\n",
    "df = pd.read_csv(csv_path)\n",
    "\n",
    "df.info()\n",
    "df.head()"
   ]
  },
  {
   "cell_type": "code",
   "execution_count": 3,
   "id": "b5ecb528",
   "metadata": {},
   "outputs": [],
   "source": [
    "def preprocess_korean_sentence(sentences):\n",
    "    preprocessed_setences = []\n",
    "    for sentence in sentences:\n",
    "        sentence = sentence.strip()\n",
    "\n",
    "        # SubwordTextEncoder는 구두점을 따로 제거하지 않기 때문에\n",
    "        # 필요한 구두점(.,!?)만 유지하고 없앰\n",
    "        sentence = re.sub(r\"([.,!?])\", r\" \\1 \", sentence)\n",
    "        # 여러 공백은 하나로 치환\n",
    "        sentence = re.sub(r\"\\s+\", \" \", sentence)\n",
    "        # 허용 문자만 남기고 나머지는 공백으로 치환\n",
    "        sentence = re.sub(r\"[^가-힣a-zA-Z0-9.,!? ]\", \" \", sentence)\n",
    "        \n",
    "        preprocessed_setences.append(sentence.strip())\n",
    "\n",
    "    return preprocessed_setences"
   ]
  },
  {
   "cell_type": "code",
   "execution_count": 4,
   "id": "75ccf95a",
   "metadata": {},
   "outputs": [],
   "source": [
    "questions = preprocess_korean_sentence(df['Q'])\n",
    "answers = preprocess_korean_sentence(df['A'])"
   ]
  },
  {
   "cell_type": "code",
   "execution_count": 5,
   "id": "f0f31c8b",
   "metadata": {},
   "outputs": [
    {
     "name": "stdout",
     "output_type": "stream",
     "text": [
      "SNS보면 나만 빼고 다 행복해보여\n",
      "자랑하는 자리니까요 .\n"
     ]
    }
   ],
   "source": [
    "print(questions[10])\n",
    "print(answers[10])"
   ]
  },
  {
   "cell_type": "markdown",
   "id": "3dd23019",
   "metadata": {},
   "source": [
    "### 토큰화 및 정수 인코딩\n",
    "+ SubwordTextEncoder를 이용하여 토큰화 및 정수 인코딩"
   ]
  },
  {
   "cell_type": "code",
   "execution_count": 6,
   "id": "ec2bde98",
   "metadata": {},
   "outputs": [],
   "source": [
    "# tokenizer = tfds.deprecated.text.SubwordTextEncoder.build_from_corpus(\n",
    "#     questions + answers, target_vocab_size=2**13\n",
    "# )\n",
    "\n",
    "# # 토크나이저 저장\n",
    "# tokenizer.save_to_file('tokenizer_subword')"
   ]
  },
  {
   "cell_type": "code",
   "execution_count": 7,
   "id": "ad2d4ce6",
   "metadata": {},
   "outputs": [],
   "source": [
    "# 토크나이저 불러오기\n",
    "tokenizer = tfds.deprecated.text.SubwordTextEncoder.load_from_file('tokenizer_subword')"
   ]
  },
  {
   "cell_type": "code",
   "execution_count": 8,
   "id": "1bc9acfc",
   "metadata": {},
   "outputs": [],
   "source": [
    "# 시작 토큰과 종료 토큰 추가\n",
    "START_TOKEN, END_TOKEN = [tokenizer.vocab_size], [tokenizer.vocab_size + 1]"
   ]
  },
  {
   "cell_type": "code",
   "execution_count": 9,
   "id": "a0982300",
   "metadata": {},
   "outputs": [
    {
     "name": "stdout",
     "output_type": "stream",
     "text": [
      "8166\n"
     ]
    }
   ],
   "source": [
    "# 시작 토큰과 종료 토큰을 고려하여 +2\n",
    "VOCAB_SIZE = tokenizer.vocab_size + 2\n",
    "print(VOCAB_SIZE)"
   ]
  },
  {
   "cell_type": "code",
   "execution_count": 10,
   "id": "a52dfae8",
   "metadata": {},
   "outputs": [],
   "source": [
    "# 토큰화 및 정수 인코딩\n",
    "def text_vectorization(inputs, outputs):\n",
    "  tokenized_inputs, tokenized_outputs = [], []\n",
    "  \n",
    "  for (input_sentence, output_sentence) in zip(inputs, outputs):\n",
    "    # 정수 인코딩 과정에서 시작 토큰과 종료 토큰을 추가\n",
    "    input_sentence = START_TOKEN + tokenizer.encode(input_sentence) + END_TOKEN\n",
    "    output_sentence = START_TOKEN + tokenizer.encode(output_sentence) + END_TOKEN\n",
    "\n",
    "    tokenized_inputs.append(input_sentence)\n",
    "    tokenized_outputs.append(output_sentence)\n",
    "  \n",
    "  return tokenized_inputs, tokenized_outputs"
   ]
  },
  {
   "cell_type": "code",
   "execution_count": 11,
   "id": "7975e235",
   "metadata": {},
   "outputs": [],
   "source": [
    "questions, answers = text_vectorization(questions, answers)"
   ]
  },
  {
   "cell_type": "markdown",
   "id": "7e3b966a",
   "metadata": {},
   "source": [
    "길이 분포를 확인하여 최대 길이를 지정"
   ]
  },
  {
   "cell_type": "code",
   "execution_count": 12,
   "id": "a438aeb7",
   "metadata": {},
   "outputs": [],
   "source": [
    "question_lengths = [len(seq) for seq in questions]\n",
    "answer_lengths = [len(seq) for seq in answers]"
   ]
  },
  {
   "cell_type": "code",
   "execution_count": 13,
   "id": "c0b0d64b",
   "metadata": {},
   "outputs": [
    {
     "name": "stdout",
     "output_type": "stream",
     "text": [
      "Question 최소 길이: 3, 최대 길이: 23, 평균 길이: 7.487101412501057\n",
      "Answer 최소 길이: 3, 최대 길이: 31 평균 길이: 7.819504355916434\n"
     ]
    }
   ],
   "source": [
    "print(f'Question 최소 길이: {min(question_lengths)}, 최대 길이: {max(question_lengths)}, 평균 길이: {np.mean(question_lengths)}')\n",
    "print(f'Answer 최소 길이: {min(answer_lengths)}, 최대 길이: {max(answer_lengths)} 평균 길이: {np.mean(answer_lengths)}')"
   ]
  },
  {
   "cell_type": "code",
   "execution_count": 14,
   "id": "0a5e2bfb",
   "metadata": {},
   "outputs": [],
   "source": [
    "question_max_len = 23\n",
    "answer_max_len = 31\n",
    "\n",
    "# 최대 길이에 맞추어 모든 데이터를 패딩\n",
    "questions = tf.keras.preprocessing.sequence.pad_sequences(\n",
    "    questions, maxlen=question_max_len, padding='post')\n",
    "answers = tf.keras.preprocessing.sequence.pad_sequences(\n",
    "    answers, maxlen=answer_max_len, padding='post')"
   ]
  },
  {
   "cell_type": "markdown",
   "id": "97bcc936",
   "metadata": {},
   "source": [
    "## 트랜스포머 모델 구성"
   ]
  },
  {
   "cell_type": "markdown",
   "id": "46d976d4",
   "metadata": {},
   "source": [
    "## 층별 구성"
   ]
  },
  {
   "cell_type": "code",
   "execution_count": 15,
   "id": "438e6278",
   "metadata": {},
   "outputs": [],
   "source": [
    "# 포지셔널 인코딩 레이어\n",
    "class PositionalEncoding(tf.keras.layers.Layer):\n",
    "\n",
    "  def __init__(self, position, d_model):\n",
    "    super().__init__()\n",
    "    self.pos_encoding = self.positional_encoding(position, d_model)\n",
    "\n",
    "  def get_angles(self, position, i, d_model):\n",
    "    angles = 1 / tf.pow(10000, (2 * (i // 2)) / tf.cast(d_model, tf.float32))\n",
    "    return position * angles\n",
    "\n",
    "  def positional_encoding(self, position, d_model):\n",
    "    # 각도 배열 생성\n",
    "    angle_rads = self.get_angles(\n",
    "        position=tf.range(position, dtype=tf.float32)[:, tf.newaxis],\n",
    "        i=tf.range(d_model, dtype=tf.float32)[tf.newaxis, :],\n",
    "        d_model=d_model)\n",
    "\n",
    "    # 배열의 짝수 인덱스에는 sin 함수 적용\n",
    "    sines = tf.math.sin(angle_rads[:, 0::2])\n",
    "    # 배열의 홀수 인덱스에는 cosine 함수 적용\n",
    "    cosines = tf.math.cos(angle_rads[:, 1::2])\n",
    "\n",
    "    # sin과 cosine이 교차되도록 재배열\n",
    "    pos_encoding = tf.stack([sines, cosines], axis=0)\n",
    "    pos_encoding = tf.transpose(pos_encoding,[1, 2, 0]) \n",
    "    pos_encoding = tf.reshape(pos_encoding, [position, d_model])\n",
    "\n",
    "    pos_encoding = pos_encoding[tf.newaxis, ...]\n",
    "    return tf.cast(pos_encoding, tf.float32)\n",
    "\n",
    "  def call(self, inputs):\n",
    "    return inputs + self.pos_encoding[:, :tf.shape(inputs)[1], :]"
   ]
  },
  {
   "cell_type": "code",
   "execution_count": 16,
   "id": "99da388b",
   "metadata": {},
   "outputs": [],
   "source": [
    "def scaled_dot_product_attention(query, key, value, mask):\n",
    "  # 어텐션 가중치는 Q와 K의 닷 프로덕트\n",
    "  matmul_qk = tf.matmul(query, key, transpose_b=True)\n",
    "\n",
    "  # 가중치를 정규화\n",
    "  depth = tf.cast(tf.shape(key)[-1], tf.float32)\n",
    "  logits = matmul_qk / tf.math.sqrt(depth)\n",
    "\n",
    "  # 패딩에 마스크 추가\n",
    "  if mask is not None:\n",
    "    logits += (mask * -1e9)\n",
    "\n",
    "  # softmax적용\n",
    "  attention_weights = tf.nn.softmax(logits, axis=-1)\n",
    "\n",
    "  # 최종 어텐션은 가중치와 V의 닷 프로덕트\n",
    "  output = tf.matmul(attention_weights, value)\n",
    "  return output"
   ]
  },
  {
   "cell_type": "code",
   "execution_count": 17,
   "id": "d360bd61",
   "metadata": {},
   "outputs": [],
   "source": [
    "class MultiHeadAttention(tf.keras.layers.Layer):\n",
    "\n",
    "  def __init__(self, d_model, num_heads, name=\"multi_head_attention\"):\n",
    "    super(MultiHeadAttention, self).__init__(name=name)\n",
    "    self.num_heads = num_heads\n",
    "    self.d_model = d_model\n",
    "\n",
    "    assert d_model % self.num_heads == 0\n",
    "\n",
    "    self.depth = d_model // self.num_heads\n",
    "\n",
    "    self.query_dense = tf.keras.layers.Dense(units=d_model)\n",
    "    self.key_dense = tf.keras.layers.Dense(units=d_model)\n",
    "    self.value_dense = tf.keras.layers.Dense(units=d_model)\n",
    "\n",
    "    self.dense = tf.keras.layers.Dense(units=d_model)\n",
    "\n",
    "  def split_heads(self, inputs, batch_size):\n",
    "    inputs = tf.reshape(\n",
    "        inputs, shape=(batch_size, -1, self.num_heads, self.depth))\n",
    "    return tf.transpose(inputs, perm=[0, 2, 1, 3])\n",
    "\n",
    "  def call(self, inputs):\n",
    "    query, key, value, mask = inputs['query'], inputs['key'], inputs[\n",
    "        'value'], inputs['mask']\n",
    "    batch_size = tf.shape(query)[0]\n",
    "\n",
    "    # Q, K, V에 각각 Dense를 적용\n",
    "    query = self.query_dense(query)\n",
    "    key = self.key_dense(key)\n",
    "    value = self.value_dense(value)\n",
    "\n",
    "    # 병렬연산을 위한 멀티 헤드 분리\n",
    "    query = self.split_heads(query, batch_size)\n",
    "    key = self.split_heads(key, batch_size)\n",
    "    value = self.split_heads(value, batch_size)\n",
    "\n",
    "    # 스케일드 닷 프로덕트 어텐션 함수\n",
    "    scaled_attention = scaled_dot_product_attention(query, key, value, mask)\n",
    "\n",
    "    scaled_attention = tf.transpose(scaled_attention, perm=[0, 2, 1, 3])\n",
    "\n",
    "    # 어텐션 연산 후에 각 결과를 다시 연결(concatenate)\n",
    "    concat_attention = tf.reshape(scaled_attention,\n",
    "                                  (batch_size, -1, self.d_model))\n",
    "\n",
    "    # 최종 결과에 Dense를 한 번 더 적용\n",
    "    outputs = self.dense(concat_attention)\n",
    "\n",
    "    return outputs"
   ]
  },
  {
   "cell_type": "code",
   "execution_count": 18,
   "id": "74de91dc",
   "metadata": {},
   "outputs": [],
   "source": [
    "def create_padding_mask(x):\n",
    "  mask = tf.cast(tf.math.equal(x, 0), tf.float32)\n",
    "  # (batch_size, 1, 1, sequence length)\n",
    "  return mask[:, tf.newaxis, tf.newaxis, :]"
   ]
  },
  {
   "cell_type": "code",
   "execution_count": 19,
   "id": "778d81ae",
   "metadata": {},
   "outputs": [],
   "source": [
    "def create_look_ahead_mask(x):\n",
    "  seq_len = tf.shape(x)[1]\n",
    "  look_ahead_mask = 1 - tf.linalg.band_part(tf.ones((seq_len, seq_len)), -1, 0)\n",
    "  padding_mask = create_padding_mask(x)\n",
    "  return tf.maximum(look_ahead_mask, padding_mask)"
   ]
  },
  {
   "cell_type": "code",
   "execution_count": 20,
   "id": "fcb4f9f7",
   "metadata": {},
   "outputs": [],
   "source": [
    "# 인코더 하나의 레이어를 함수로 구현\n",
    "# 두 개의 서브 레이어(셀프 어텐션, 포지션-와이즈 FFNN)로 구성\n",
    "def encoder_layer(units, d_model, num_heads, dropout, name=\"encoder_layer\"):\n",
    "  inputs = tf.keras.Input(shape=(None, d_model), name=\"inputs\")\n",
    "\n",
    "  # 패딩 마스크 사용\n",
    "  padding_mask = tf.keras.Input(shape=(1, 1, None), name=\"padding_mask\")\n",
    "\n",
    "  # 첫 번째 서브 레이어 : 멀티 헤드 어텐션 수행 (셀프 어텐션)\n",
    "  attention = MultiHeadAttention(\n",
    "      d_model, num_heads, name=\"attention\")({\n",
    "          'query': inputs,\n",
    "          'key': inputs,\n",
    "          'value': inputs,\n",
    "          'mask': padding_mask\n",
    "      })\n",
    "\n",
    "  # Dropout, Layer Normalization\n",
    "  attention = tf.keras.layers.Dropout(rate=dropout)(attention)\n",
    "  attention = tf.keras.layers.LayerNormalization(\n",
    "      epsilon=1e-6)(inputs + attention)\n",
    "\n",
    "  # 두 번째 서브 레이어 : 2개의 완전연결층\n",
    "  outputs = tf.keras.layers.Dense(units=units, activation='relu')(attention)\n",
    "  outputs = tf.keras.layers.Dense(units=d_model)(outputs)\n",
    "\n",
    "  # Dropout, LayerNormalization\n",
    "  outputs = tf.keras.layers.Dropout(rate=dropout)(outputs)\n",
    "  outputs = tf.keras.layers.LayerNormalization(\n",
    "      epsilon=1e-6)(attention + outputs)\n",
    "\n",
    "  return tf.keras.Model(\n",
    "      inputs=[inputs, padding_mask], outputs=outputs, name=name)"
   ]
  },
  {
   "cell_type": "code",
   "execution_count": 21,
   "id": "495d6489",
   "metadata": {},
   "outputs": [],
   "source": [
    "def encoder(vocab_size,\n",
    "            num_layers,\n",
    "            units,\n",
    "            d_model,\n",
    "            num_heads,\n",
    "            dropout,\n",
    "            name=\"encoder\"):\n",
    "  inputs = tf.keras.Input(shape=(None,), name=\"inputs\")\n",
    "\n",
    "  # 패딩 마스크 사용\n",
    "  padding_mask = tf.keras.Input(shape=(1, 1, None), name=\"padding_mask\")\n",
    "\n",
    "  # 임베딩 레이어\n",
    "  embeddings = tf.keras.layers.Embedding(vocab_size, d_model)(inputs)\n",
    "  embeddings *= tf.math.sqrt(tf.cast(d_model, tf.float32))\n",
    "\n",
    "  # 포지셔널 인코딩\n",
    "  embeddings = PositionalEncoding(vocab_size, d_model)(embeddings)\n",
    "\n",
    "  outputs = tf.keras.layers.Dropout(rate=dropout)(embeddings)\n",
    "\n",
    "  # num_layers만큼 쌓아올린 인코더의 층\n",
    "  for i in range(num_layers):\n",
    "    outputs = encoder_layer(\n",
    "        units=units,\n",
    "        d_model=d_model,\n",
    "        num_heads=num_heads,\n",
    "        dropout=dropout,\n",
    "        name=\"encoder_layer_{}\".format(i),\n",
    "    )([outputs, padding_mask])\n",
    "\n",
    "  return tf.keras.Model(\n",
    "      inputs=[inputs, padding_mask], outputs=outputs, name=name)"
   ]
  },
  {
   "cell_type": "code",
   "execution_count": 22,
   "id": "4cb3ed0c",
   "metadata": {},
   "outputs": [],
   "source": [
    "# 디코더 하나의 레이어를 함수로 구현\n",
    "# 세 개의 서브 레이어(셀프 어텐션, 인코더-디코더 어텐션, 포지션-와이즈 FFNN)로 구성\n",
    "def decoder_layer(units, d_model, num_heads, dropout, name=\"decoder_layer\"):\n",
    "  inputs = tf.keras.Input(shape=(None, d_model), name=\"inputs\")\n",
    "  enc_outputs = tf.keras.Input(shape=(None, d_model), name=\"encoder_outputs\")\n",
    "  look_ahead_mask = tf.keras.Input(\n",
    "      shape=(1, None, None), name=\"look_ahead_mask\")\n",
    "  padding_mask = tf.keras.Input(shape=(1, 1, None), name='padding_mask')\n",
    "\n",
    "  # 첫 번째 서브 레이어 : 멀티 헤드 어텐션 수행 (셀프 어텐션)\n",
    "  attention1 = MultiHeadAttention(\n",
    "      d_model, num_heads, name=\"attention_1\")(inputs={\n",
    "          'query': inputs,\n",
    "          'key': inputs,\n",
    "          'value': inputs,\n",
    "          'mask': look_ahead_mask\n",
    "      })\n",
    "\n",
    "  # LayerNormalization\n",
    "  attention1 = tf.keras.layers.LayerNormalization(\n",
    "      epsilon=1e-6)(attention1 + inputs)\n",
    "\n",
    "  # 두 번째 서브 레이어 : 마스크드 멀티 헤드 어텐션 수행 (인코더-디코더 어텐션)\n",
    "  attention2 = MultiHeadAttention(\n",
    "      d_model, num_heads, name=\"attention_2\")(inputs={\n",
    "          'query': attention1,\n",
    "          'key': enc_outputs,\n",
    "          'value': enc_outputs,\n",
    "          'mask': padding_mask\n",
    "      })\n",
    "\n",
    "  # Dropout, LayerNormalization\n",
    "  attention2 = tf.keras.layers.Dropout(rate=dropout)(attention2)\n",
    "  attention2 = tf.keras.layers.LayerNormalization(\n",
    "      epsilon=1e-6)(attention2 + attention1)\n",
    "\n",
    "  # 세 번째 서브 레이어 : 2개의 완전연결층\n",
    "  outputs = tf.keras.layers.Dense(units=units, activation='relu')(attention2)\n",
    "  outputs = tf.keras.layers.Dense(units=d_model)(outputs)\n",
    "\n",
    "  # Dropout, LayerNormalization\n",
    "  outputs = tf.keras.layers.Dropout(rate=dropout)(outputs)\n",
    "  outputs = tf.keras.layers.LayerNormalization(\n",
    "      epsilon=1e-6)(outputs + attention2)\n",
    "\n",
    "  return tf.keras.Model(\n",
    "      inputs=[inputs, enc_outputs, look_ahead_mask, padding_mask],\n",
    "      outputs=outputs,\n",
    "      name=name)"
   ]
  },
  {
   "cell_type": "code",
   "execution_count": 23,
   "id": "562bc07c",
   "metadata": {},
   "outputs": [],
   "source": [
    "def decoder(vocab_size,\n",
    "            num_layers,\n",
    "            units,\n",
    "            d_model,\n",
    "            num_heads,\n",
    "            dropout,\n",
    "            name='decoder'):\n",
    "  inputs = tf.keras.Input(shape=(None,), name='inputs')\n",
    "  enc_outputs = tf.keras.Input(shape=(None, d_model), name='encoder_outputs')\n",
    "  look_ahead_mask = tf.keras.Input(\n",
    "      shape=(1, None, None), name='look_ahead_mask')\n",
    "\n",
    "  # 패딩 마스크\n",
    "  padding_mask = tf.keras.Input(shape=(1, 1, None), name='padding_mask')\n",
    "  \n",
    "  # 임베딩 레이어\n",
    "  embeddings = tf.keras.layers.Embedding(vocab_size, d_model)(inputs)\n",
    "  embeddings *= tf.math.sqrt(tf.cast(d_model, tf.float32))\n",
    "\n",
    "  # 포지셔널 인코딩\n",
    "  embeddings = PositionalEncoding(vocab_size, d_model)(embeddings)\n",
    "\n",
    "  # Dropout\n",
    "  outputs = tf.keras.layers.Dropout(rate=dropout)(embeddings)\n",
    "\n",
    "  for i in range(num_layers):\n",
    "    outputs = decoder_layer(\n",
    "        units=units,\n",
    "        d_model=d_model,\n",
    "        num_heads=num_heads,\n",
    "        dropout=dropout,\n",
    "        name='decoder_layer_{}'.format(i),\n",
    "    )(inputs=[outputs, enc_outputs, look_ahead_mask, padding_mask])\n",
    "\n",
    "  return tf.keras.Model(\n",
    "      inputs=[inputs, enc_outputs, look_ahead_mask, padding_mask],\n",
    "      outputs=outputs,\n",
    "      name=name)"
   ]
  },
  {
   "cell_type": "markdown",
   "id": "7303997d",
   "metadata": {},
   "source": [
    "### 최종 모델"
   ]
  },
  {
   "cell_type": "code",
   "execution_count": 24,
   "id": "f61b43ca",
   "metadata": {},
   "outputs": [],
   "source": [
    "def transformer(vocab_size,\n",
    "                num_layers,\n",
    "                units,\n",
    "                d_model,\n",
    "                num_heads,\n",
    "                dropout,\n",
    "                name=\"transformer\"):\n",
    "  inputs = tf.keras.Input(shape=(None,), name=\"inputs\")\n",
    "  dec_inputs = tf.keras.Input(shape=(None,), name=\"dec_inputs\")\n",
    "\n",
    "  # 인코더에서 패딩을 위한 마스크\n",
    "  enc_padding_mask = tf.keras.layers.Lambda(\n",
    "      create_padding_mask, output_shape=(1, 1, None),\n",
    "      name='enc_padding_mask')(inputs)\n",
    "\n",
    "  # 디코더에서 미래의 토큰을 마스크 하기 위해서 사용\n",
    "  # 내부적으로 패딩 마스크도 포함\n",
    "  look_ahead_mask = tf.keras.layers.Lambda(\n",
    "      create_look_ahead_mask,\n",
    "      output_shape=(1, None, None),\n",
    "      name='look_ahead_mask')(dec_inputs)\n",
    "\n",
    "  # 두 번째 어텐션 블록에서 인코더의 벡터들을 마스킹\n",
    "  # 디코더에서 패딩을 위한 마스크\n",
    "  dec_padding_mask = tf.keras.layers.Lambda(\n",
    "      create_padding_mask, output_shape=(1, 1, None),\n",
    "      name='dec_padding_mask')(inputs)\n",
    "\n",
    "  # 인코더\n",
    "  enc_outputs = encoder(\n",
    "      vocab_size=vocab_size,\n",
    "      num_layers=num_layers,\n",
    "      units=units,\n",
    "      d_model=d_model,\n",
    "      num_heads=num_heads,\n",
    "      dropout=dropout,\n",
    "  )(inputs=[inputs, enc_padding_mask])\n",
    "\n",
    "  # 디코더\n",
    "  dec_outputs = decoder(\n",
    "      vocab_size=vocab_size,\n",
    "      num_layers=num_layers,\n",
    "      units=units,\n",
    "      d_model=d_model,\n",
    "      num_heads=num_heads,\n",
    "      dropout=dropout,\n",
    "  )(inputs=[dec_inputs, enc_outputs, look_ahead_mask, dec_padding_mask])\n",
    "\n",
    "  # 완전연결층\n",
    "  outputs = tf.keras.layers.Dense(units=vocab_size, name=\"outputs\")(dec_outputs)\n",
    "\n",
    "  return tf.keras.Model(inputs=[inputs, dec_inputs], outputs=outputs, name=name)"
   ]
  },
  {
   "cell_type": "code",
   "execution_count": 25,
   "id": "724a1143",
   "metadata": {},
   "outputs": [
    {
     "name": "stdout",
     "output_type": "stream",
     "text": [
      "Model: \"transformer\"\n",
      "__________________________________________________________________________________________________\n",
      "Layer (type)                    Output Shape         Param #     Connected to                     \n",
      "==================================================================================================\n",
      "inputs (InputLayer)             [(None, None)]       0                                            \n",
      "__________________________________________________________________________________________________\n",
      "dec_inputs (InputLayer)         [(None, None)]       0                                            \n",
      "__________________________________________________________________________________________________\n",
      "enc_padding_mask (Lambda)       (None, 1, 1, None)   0           inputs[0][0]                     \n",
      "__________________________________________________________________________________________________\n",
      "encoder (Functional)            (None, None, 256)    4198912     inputs[0][0]                     \n",
      "                                                                 enc_padding_mask[0][0]           \n",
      "__________________________________________________________________________________________________\n",
      "look_ahead_mask (Lambda)        (None, 1, None, None 0           dec_inputs[0][0]                 \n",
      "__________________________________________________________________________________________________\n",
      "dec_padding_mask (Lambda)       (None, 1, 1, None)   0           inputs[0][0]                     \n",
      "__________________________________________________________________________________________________\n",
      "decoder (Functional)            (None, None, 256)    5253632     dec_inputs[0][0]                 \n",
      "                                                                 encoder[0][0]                    \n",
      "                                                                 look_ahead_mask[0][0]            \n",
      "                                                                 dec_padding_mask[0][0]           \n",
      "__________________________________________________________________________________________________\n",
      "outputs (Dense)                 (None, None, 8166)   2098662     decoder[0][0]                    \n",
      "==================================================================================================\n",
      "Total params: 11,551,206\n",
      "Trainable params: 11,551,206\n",
      "Non-trainable params: 0\n",
      "__________________________________________________________________________________________________\n"
     ]
    }
   ],
   "source": [
    "tf.keras.backend.clear_session()\n",
    "\n",
    "# 하이퍼파라미터\n",
    "NUM_LAYERS = 4 # 인코더와 디코더의 층의 개수\n",
    "D_MODEL = 256 # 인코더와 디코더 내부의 입, 출력의 고정 차원\n",
    "NUM_HEADS = 8 # 멀티 헤드 어텐션에서의 헤드 수 \n",
    "UNITS = 512 # 피드 포워드 신경망의 은닉층의 크기\n",
    "DROPOUT = 0.1 # 드롭아웃의 비율\n",
    "\n",
    "model = transformer(\n",
    "    vocab_size=VOCAB_SIZE,\n",
    "    num_layers=NUM_LAYERS,\n",
    "    units=UNITS,\n",
    "    d_model=D_MODEL,\n",
    "    num_heads=NUM_HEADS,\n",
    "    dropout=DROPOUT)\n",
    "\n",
    "model.summary()"
   ]
  },
  {
   "cell_type": "markdown",
   "id": "5f543b52",
   "metadata": {},
   "source": [
    "## 모델 훈련"
   ]
  },
  {
   "cell_type": "code",
   "execution_count": 26,
   "id": "21c54d5c",
   "metadata": {},
   "outputs": [],
   "source": [
    "BATCH_SIZE = 64\n",
    "BUFFER_SIZE = 20000\n",
    "\n",
    "# 디코더는 이전의 target을 다음의 input으로 사용\n",
    "# 이에 따라 outputs에서는 START_TOKEN을 제거\n",
    "dataset = tf.data.Dataset.from_tensor_slices((\n",
    "    {\n",
    "        'inputs': questions,\n",
    "        'dec_inputs': answers[:, :-1]\n",
    "    },\n",
    "    {\n",
    "        'outputs': answers[:, 1:]\n",
    "    },\n",
    "))\n",
    "\n",
    "dataset = dataset.cache()\n",
    "dataset = dataset.shuffle(BUFFER_SIZE)\n",
    "dataset = dataset.batch(BATCH_SIZE)\n",
    "dataset = dataset.prefetch(tf.data.experimental.AUTOTUNE)"
   ]
  },
  {
   "cell_type": "code",
   "execution_count": 27,
   "id": "5ac555e4",
   "metadata": {},
   "outputs": [],
   "source": [
    "def loss_function(y_true, y_pred):\n",
    "  y_true = tf.reshape(y_true, shape=(-1, answer_max_len - 1))\n",
    "\n",
    "  loss = tf.keras.losses.SparseCategoricalCrossentropy(\n",
    "      from_logits=True, reduction='none')(y_true, y_pred)\n",
    "\n",
    "  mask = tf.cast(tf.not_equal(y_true, 0), tf.float32)\n",
    "  loss = tf.multiply(loss, mask)\n",
    "\n",
    "  return tf.reduce_mean(loss)"
   ]
  },
  {
   "cell_type": "code",
   "execution_count": 28,
   "id": "3fa7aaae",
   "metadata": {},
   "outputs": [],
   "source": [
    "class CustomSchedule(tf.keras.optimizers.schedules.LearningRateSchedule):\n",
    "\n",
    "  def __init__(self, d_model, warmup_steps=4000):\n",
    "    super(CustomSchedule, self).__init__()\n",
    "\n",
    "    self.d_model = d_model\n",
    "    self.d_model = tf.cast(self.d_model, tf.float32)\n",
    "\n",
    "    self.warmup_steps = warmup_steps\n",
    "\n",
    "  def __call__(self, step):\n",
    "    arg1 = tf.math.rsqrt(step)\n",
    "    arg2 = step * (self.warmup_steps**-1.5)\n",
    "\n",
    "    return tf.math.rsqrt(self.d_model) * tf.math.minimum(arg1, arg2)"
   ]
  },
  {
   "cell_type": "code",
   "execution_count": 29,
   "id": "a153466a",
   "metadata": {},
   "outputs": [
    {
     "data": {
      "text/plain": [
       "Text(0.5, 0, 'Train Step')"
      ]
     },
     "execution_count": 29,
     "metadata": {},
     "output_type": "execute_result"
    },
    {
     "data": {
      "image/png": "[encoded data removed]",
      "text/plain": [
       "<Figure size 432x288 with 1 Axes>"
      ]
     },
     "metadata": {
      "needs_background": "light"
     },
     "output_type": "display_data"
    }
   ],
   "source": [
    "sample_learning_rate = CustomSchedule(d_model=128)\n",
    "\n",
    "plt.plot(sample_learning_rate(tf.range(200000, dtype=tf.float32)))\n",
    "plt.ylabel(\"Learning Rate\")\n",
    "plt.xlabel(\"Train Step\")"
   ]
  },
  {
   "cell_type": "code",
   "execution_count": 30,
   "id": "2078d98a",
   "metadata": {},
   "outputs": [],
   "source": [
    "learning_rate = CustomSchedule(D_MODEL)\n",
    "\n",
    "optimizer = tf.keras.optimizers.Adam(\n",
    "    learning_rate, beta_1=0.9, beta_2=0.98, epsilon=1e-9)\n",
    "\n",
    "def accuracy(y_true, y_pred):\n",
    "  y_true = tf.reshape(y_true, shape=(-1, answer_max_len - 1))\n",
    "  return tf.keras.metrics.sparse_categorical_accuracy(y_true, y_pred)\n",
    "\n",
    "model.compile(optimizer=optimizer, loss=loss_function, metrics=[accuracy])"
   ]
  },
  {
   "cell_type": "code",
   "execution_count": 31,
   "id": "60ace5f1",
   "metadata": {},
   "outputs": [
    {
     "name": "stdout",
     "output_type": "stream",
     "text": [
      "Epoch 1/55\n",
      "185/185 [==============================] - 24s 70ms/step - loss: 1.8869 - accuracy: 0.0338\n",
      "Epoch 2/55\n",
      "185/185 [==============================] - 13s 70ms/step - loss: 1.5299 - accuracy: 0.0643\n",
      "Epoch 3/55\n",
      "185/185 [==============================] - 13s 70ms/step - loss: 1.3127 - accuracy: 0.0652\n",
      "Epoch 4/55\n",
      "185/185 [==============================] - 13s 71ms/step - loss: 1.2242 - accuracy: 0.0692\n",
      "Epoch 5/55\n",
      "185/185 [==============================] - 13s 71ms/step - loss: 1.1617 - accuracy: 0.0731\n",
      "Epoch 6/55\n",
      "185/185 [==============================] - 13s 71ms/step - loss: 1.0990 - accuracy: 0.0769\n",
      "Epoch 7/55\n",
      "185/185 [==============================] - 13s 71ms/step - loss: 1.0292 - accuracy: 0.0815\n",
      "Epoch 8/55\n",
      "185/185 [==============================] - 13s 71ms/step - loss: 0.9501 - accuracy: 0.0881\n",
      "Epoch 9/55\n",
      "185/185 [==============================] - 13s 71ms/step - loss: 0.8656 - accuracy: 0.0963\n",
      "Epoch 10/55\n",
      "185/185 [==============================] - 13s 70ms/step - loss: 0.7765 - accuracy: 0.1064\n",
      "Epoch 11/55\n",
      "185/185 [==============================] - 13s 71ms/step - loss: 0.6866 - accuracy: 0.1172\n",
      "Epoch 12/55\n",
      "185/185 [==============================] - 13s 71ms/step - loss: 0.5965 - accuracy: 0.1284\n",
      "Epoch 13/55\n",
      "185/185 [==============================] - 13s 71ms/step - loss: 0.5111 - accuracy: 0.1397\n",
      "Epoch 14/55\n",
      "185/185 [==============================] - 13s 71ms/step - loss: 0.4327 - accuracy: 0.1500\n",
      "Epoch 15/55\n",
      "185/185 [==============================] - 13s 71ms/step - loss: 0.3649 - accuracy: 0.1588\n",
      "Epoch 16/55\n",
      "185/185 [==============================] - 13s 70ms/step - loss: 0.3061 - accuracy: 0.1669\n",
      "Epoch 17/55\n",
      "185/185 [==============================] - 13s 71ms/step - loss: 0.2581 - accuracy: 0.1739\n",
      "Epoch 18/55\n",
      "185/185 [==============================] - 13s 71ms/step - loss: 0.2190 - accuracy: 0.1803\n",
      "Epoch 19/55\n",
      "185/185 [==============================] - 13s 71ms/step - loss: 0.1891 - accuracy: 0.1848\n",
      "Epoch 20/55\n",
      "185/185 [==============================] - 13s 71ms/step - loss: 0.1642 - accuracy: 0.1896\n",
      "Epoch 21/55\n",
      "185/185 [==============================] - 13s 71ms/step - loss: 0.1474 - accuracy: 0.1919\n",
      "Epoch 22/55\n",
      "185/185 [==============================] - 13s 70ms/step - loss: 0.1363 - accuracy: 0.1938\n",
      "Epoch 23/55\n",
      "185/185 [==============================] - 13s 71ms/step - loss: 0.1180 - accuracy: 0.1977\n",
      "Epoch 24/55\n",
      "185/185 [==============================] - 13s 71ms/step - loss: 0.1021 - accuracy: 0.2017\n",
      "Epoch 25/55\n",
      "185/185 [==============================] - 13s 71ms/step - loss: 0.0887 - accuracy: 0.2049\n",
      "Epoch 26/55\n",
      "185/185 [==============================] - 13s 71ms/step - loss: 0.0771 - accuracy: 0.2075\n",
      "Epoch 27/55\n",
      "185/185 [==============================] - 13s 71ms/step - loss: 0.0697 - accuracy: 0.2094\n",
      "Epoch 28/55\n",
      "185/185 [==============================] - 13s 71ms/step - loss: 0.0617 - accuracy: 0.2115\n",
      "Epoch 29/55\n",
      "185/185 [==============================] - 13s 71ms/step - loss: 0.0570 - accuracy: 0.2128\n",
      "Epoch 30/55\n",
      "185/185 [==============================] - 13s 71ms/step - loss: 0.0512 - accuracy: 0.2142\n",
      "Epoch 31/55\n",
      "185/185 [==============================] - 13s 71ms/step - loss: 0.0460 - accuracy: 0.2154\n",
      "Epoch 32/55\n",
      "185/185 [==============================] - 13s 71ms/step - loss: 0.0435 - accuracy: 0.2163\n",
      "Epoch 33/55\n",
      "185/185 [==============================] - 13s 71ms/step - loss: 0.0395 - accuracy: 0.2175\n",
      "Epoch 34/55\n",
      "185/185 [==============================] - 13s 70ms/step - loss: 0.0382 - accuracy: 0.2175\n",
      "Epoch 35/55\n",
      "185/185 [==============================] - 13s 70ms/step - loss: 0.0336 - accuracy: 0.2188\n",
      "Epoch 36/55\n",
      "185/185 [==============================] - 13s 71ms/step - loss: 0.0317 - accuracy: 0.2193\n",
      "Epoch 37/55\n",
      "185/185 [==============================] - 13s 71ms/step - loss: 0.0295 - accuracy: 0.2199\n",
      "Epoch 38/55\n",
      "185/185 [==============================] - 13s 71ms/step - loss: 0.0288 - accuracy: 0.2201\n",
      "Epoch 39/55\n",
      "185/185 [==============================] - 13s 71ms/step - loss: 0.0274 - accuracy: 0.2205\n",
      "Epoch 40/55\n",
      "185/185 [==============================] - 13s 71ms/step - loss: 0.0252 - accuracy: 0.2211\n",
      "Epoch 41/55\n",
      "185/185 [==============================] - 13s 70ms/step - loss: 0.0247 - accuracy: 0.2211\n",
      "Epoch 42/55\n",
      "185/185 [==============================] - 13s 71ms/step - loss: 0.0228 - accuracy: 0.2215\n",
      "Epoch 43/55\n",
      "185/185 [==============================] - 13s 71ms/step - loss: 0.0223 - accuracy: 0.2219\n",
      "Epoch 44/55\n",
      "185/185 [==============================] - 13s 71ms/step - loss: 0.0203 - accuracy: 0.2224\n",
      "Epoch 45/55\n",
      "185/185 [==============================] - 13s 71ms/step - loss: 0.0202 - accuracy: 0.2223\n",
      "Epoch 46/55\n",
      "185/185 [==============================] - 13s 71ms/step - loss: 0.0194 - accuracy: 0.2226\n",
      "Epoch 47/55\n",
      "185/185 [==============================] - 13s 70ms/step - loss: 0.0177 - accuracy: 0.2231\n",
      "Epoch 48/55\n",
      "185/185 [==============================] - 13s 71ms/step - loss: 0.0169 - accuracy: 0.2233\n",
      "Epoch 49/55\n",
      "185/185 [==============================] - 13s 71ms/step - loss: 0.0162 - accuracy: 0.2235\n",
      "Epoch 50/55\n",
      "185/185 [==============================] - 13s 71ms/step - loss: 0.0157 - accuracy: 0.2235\n",
      "Epoch 51/55\n",
      "185/185 [==============================] - 13s 71ms/step - loss: 0.0160 - accuracy: 0.2234\n",
      "Epoch 52/55\n",
      "185/185 [==============================] - 13s 71ms/step - loss: 0.0147 - accuracy: 0.2238\n",
      "Epoch 53/55\n",
      "185/185 [==============================] - 13s 70ms/step - loss: 0.0139 - accuracy: 0.2241\n",
      "Epoch 54/55\n",
      "185/185 [==============================] - 13s 71ms/step - loss: 0.0145 - accuracy: 0.2239\n",
      "Epoch 55/55\n",
      "185/185 [==============================] - 13s 71ms/step - loss: 0.0127 - accuracy: 0.2244\n"
     ]
    }
   ],
   "source": [
    "EPOCHS = 55\n",
    "history = model.fit(dataset, epochs=EPOCHS, verbose=1)"
   ]
  },
  {
   "cell_type": "markdown",
   "id": "6ceaf4c3",
   "metadata": {},
   "source": [
    "### 훈련 결과 시각화"
   ]
  },
  {
   "cell_type": "code",
   "execution_count": 32,
   "id": "c1712275",
   "metadata": {},
   "outputs": [
    {
     "data": {
      "text/plain": [
       "[<matplotlib.axis.XTick at 0x79b1b47e4a30>,\n",
       " <matplotlib.axis.XTick at 0x79b1b47e4a00>,\n",
       " <matplotlib.axis.XTick at 0x79b1b47e48e0>,\n",
       " <matplotlib.axis.XTick at 0x79b1b4343f40>,\n",
       " <matplotlib.axis.XTick at 0x79b1b434d6d0>,\n",
       " <matplotlib.axis.XTick at 0x79b1b434de20>,\n",
       " <matplotlib.axis.XTick at 0x79b1b434d370>,\n",
       " <matplotlib.axis.XTick at 0x79b1b43b6520>,\n",
       " <matplotlib.axis.XTick at 0x79b1b4352520>,\n",
       " <matplotlib.axis.XTick at 0x79b1b4352c70>,\n",
       " <matplotlib.axis.XTick at 0x79b1b435a400>,\n",
       " <matplotlib.axis.XTick at 0x79b1b435ab50>,\n",
       " <matplotlib.axis.XTick at 0x79b1b435ad60>,\n",
       " <matplotlib.axis.XTick at 0x79b1b4352c40>,\n",
       " <matplotlib.axis.XTick at 0x79b1b434d8e0>,\n",
       " <matplotlib.axis.XTick at 0x79b1b43607f0>,\n",
       " <matplotlib.axis.XTick at 0x79b1b4360f40>,\n",
       " <matplotlib.axis.XTick at 0x79b1b43696d0>,\n",
       " <matplotlib.axis.XTick at 0x79b1b4369e20>,\n",
       " <matplotlib.axis.XTick at 0x79b1b4369610>,\n",
       " <matplotlib.axis.XTick at 0x79b1b4360490>,\n",
       " <matplotlib.axis.XTick at 0x79b1b4352e50>,\n",
       " <matplotlib.axis.XTick at 0x79b1b4398370>,\n",
       " <matplotlib.axis.XTick at 0x79b1b43daeb0>,\n",
       " <matplotlib.axis.XTick at 0x79b1b436e910>,\n",
       " <matplotlib.axis.XTick at 0x79b1b436ebe0>,\n",
       " <matplotlib.axis.XTick at 0x79b1b43a41f0>,\n",
       " <matplotlib.axis.XTick at 0x79b1b43692b0>,\n",
       " <matplotlib.axis.XTick at 0x79b1b4377640>,\n",
       " <matplotlib.axis.XTick at 0x79b1b4377d90>,\n",
       " <matplotlib.axis.XTick at 0x79b1b4302520>,\n",
       " <matplotlib.axis.XTick at 0x79b1b4302c70>,\n",
       " <matplotlib.axis.XTick at 0x79b1b4302460>,\n",
       " <matplotlib.axis.XTick at 0x79b1b4377190>,\n",
       " <matplotlib.axis.XTick at 0x79b1b43061c0>,\n",
       " <matplotlib.axis.XTick at 0x79b1b4306910>,\n",
       " <matplotlib.axis.XTick at 0x79b1b430e160>,\n",
       " <matplotlib.axis.XTick at 0x79b1b430e7f0>,\n",
       " <matplotlib.axis.XTick at 0x79b1b430ef40>,\n",
       " <matplotlib.axis.XTick at 0x79b1b4306ac0>,\n",
       " <matplotlib.axis.XTick at 0x79b1b4377a90>,\n",
       " <matplotlib.axis.XTick at 0x79b1b4317520>,\n",
       " <matplotlib.axis.XTick at 0x79b1b4317c70>,\n",
       " <matplotlib.axis.XTick at 0x79b1b431d400>,\n",
       " <matplotlib.axis.XTick at 0x79b1b431db50>,\n",
       " <matplotlib.axis.XTick at 0x79b1b431d340>,\n",
       " <matplotlib.axis.XTick at 0x79b1b4302970>,\n",
       " <matplotlib.axis.XTick at 0x79b1b43240d0>,\n",
       " <matplotlib.axis.XTick at 0x79b1b4324820>,\n",
       " <matplotlib.axis.XTick at 0x79b1b43280a0>,\n",
       " <matplotlib.axis.XTick at 0x79b1b4328730>,\n",
       " <matplotlib.axis.XTick at 0x79b1b4328e80>,\n",
       " <matplotlib.axis.XTick at 0x79b1b4324ca0>,\n",
       " <matplotlib.axis.XTick at 0x79b1b43171f0>,\n",
       " <matplotlib.axis.XTick at 0x79b1b4334460>]"
      ]
     },
     "execution_count": 32,
     "metadata": {},
     "output_type": "execute_result"
    },
    {
     "data": {
      "image/png": "[encoded data removed]",
      "text/plain": [
       "<Figure size 1008x432 with 2 Axes>"
      ]
     },
     "metadata": {
      "needs_background": "light"
     },
     "output_type": "display_data"
    }
   ],
   "source": [
    "train_loss = history.history['loss']\n",
    "train_acc = history.history['accuracy']\n",
    "\n",
    "fig, axis = plt.subplots(1,2, figsize = (14, 6))\n",
    "axis[0].plot(train_loss)\n",
    "axis[0].set_xlabel('epoch')\n",
    "axis[0].set_ylabel('loss')\n",
    "axis[0].set_xticks(range(len(train_loss)))\n",
    "axis[1].plot(train_acc)\n",
    "axis[1].set_xlabel('epoch')\n",
    "axis[1].set_ylabel('accuracy')\n",
    "axis[1].set_xticks(range(len(train_loss)))"
   ]
  },
  {
   "cell_type": "markdown",
   "id": "5f8e5e05",
   "metadata": {},
   "source": [
    "## 추론 함수 정의"
   ]
  },
  {
   "cell_type": "code",
   "execution_count": 33,
   "id": "2fa2de80",
   "metadata": {},
   "outputs": [],
   "source": [
    "def decoder_inference(sentence):\n",
    "  sentence = preprocess_korean_sentence([sentence])[0]\n",
    "\n",
    "  # 입력된 문장을 정수 인코딩 후, 시작 토큰과 종료 토큰을 앞뒤로 추가\n",
    "  sentence = tf.expand_dims(\n",
    "      START_TOKEN + tokenizer.encode(sentence) + END_TOKEN, axis=0)\n",
    "\n",
    "  # 디코더의 현재까지의 예측한 출력 시퀀스가 지속적으로 저장되는 변수\n",
    "  # 처음에는 예측한 내용이 없음으로 시작 토큰만 별도 저장\n",
    "  output_sequence = tf.expand_dims(START_TOKEN, 0)\n",
    "\n",
    "  # 디코더의 인퍼런스 단계\n",
    "  for i in range(answer_max_len):\n",
    "    # 디코더는 최대 MAX_LENGTH의 길이만큼 다음 단어 예측을 반복\n",
    "    predictions = model(inputs=[sentence, output_sequence], training=False)\n",
    "    predictions = predictions[:, -1:, :]\n",
    "\n",
    "    # 현재 예측한 단어의 정수\n",
    "    predicted_id = tf.cast(tf.argmax(predictions, axis=-1), tf.int32)\n",
    "\n",
    "    # 만약 현재 예측한 단어가 종료 토큰이라면 for문을 종료\n",
    "    if tf.equal(predicted_id, END_TOKEN[0]):\n",
    "      break\n",
    "\n",
    "    # 예측한 단어들은 지속적으로 output_sequence에 추가\n",
    "    # 이 output_sequence는 다시 디코더의 입력이 됨\n",
    "    output_sequence = tf.concat([output_sequence, predicted_id], axis=-1)\n",
    "\n",
    "  return tf.squeeze(output_sequence, axis=0)"
   ]
  },
  {
   "cell_type": "code",
   "execution_count": 34,
   "id": "4ca7c818",
   "metadata": {},
   "outputs": [],
   "source": [
    "def sentence_generation(sentence):\n",
    "  # 입력 문장에 대해서 디코더를 동작 시켜 예측된 정수 시퀀스를 리턴\n",
    "  prediction = decoder_inference(sentence)\n",
    "\n",
    "  # 정수 시퀀스를 다시 텍스트 시퀀스로 변환\n",
    "  predicted_sentence = tokenizer.decode(\n",
    "      [i for i in prediction if i < tokenizer.vocab_size])\n",
    "\n",
    "  print('입력 : {}'.format(sentence))\n",
    "  print('출력 : {}'.format(predicted_sentence))"
   ]
  },
  {
   "cell_type": "markdown",
   "id": "bbe4b86c",
   "metadata": {},
   "source": [
    "## 입력문장 테스트"
   ]
  },
  {
   "cell_type": "code",
   "execution_count": 35,
   "id": "1fb7131a",
   "metadata": {
    "scrolled": true
   },
   "outputs": [
    {
     "name": "stdout",
     "output_type": "stream",
     "text": [
      "입력 : 졸리다\n",
      "출력 : 잠을 깨요 ! 기운 내요 ! !\n"
     ]
    }
   ],
   "source": [
    "text = '졸리다'\n",
    "sentence_generation(text)"
   ]
  },
  {
   "cell_type": "code",
   "execution_count": 36,
   "id": "7c1395ad",
   "metadata": {},
   "outputs": [
    {
     "name": "stdout",
     "output_type": "stream",
     "text": [
      "입력 : 배고파\n",
      "출력 : 뭐 좀 챙겨드세요 .\n"
     ]
    }
   ],
   "source": [
    "text = '배고파'\n",
    "sentence_generation(text)"
   ]
  },
  {
   "cell_type": "code",
   "execution_count": 37,
   "id": "36902f40",
   "metadata": {},
   "outputs": [
    {
     "name": "stdout",
     "output_type": "stream",
     "text": [
      "입력 : 학교 가기 싫다\n",
      "출력 : 학교 다닐 때가 좋은 거예요 .\n"
     ]
    }
   ],
   "source": [
    "text = '학교 가기 싫다'\n",
    "sentence_generation(text)"
   ]
  },
  {
   "cell_type": "code",
   "execution_count": 38,
   "id": "b6531754",
   "metadata": {},
   "outputs": [
    {
     "name": "stdout",
     "output_type": "stream",
     "text": [
      "입력 : 어제 친구들이랑 밥먹고 영화봤어\n",
      "출력 : 즐거운 주말 보내실 것 같네요 .\n"
     ]
    }
   ],
   "source": [
    "text = '어제 친구들이랑 밥먹고 영화봤어'\n",
    "sentence_generation(text)"
   ]
  },
  {
   "cell_type": "markdown",
   "id": "3ba96168",
   "metadata": {},
   "source": [
    "## 회고\n",
    "+ 한국어는 영어보다 전처리에 신경쓸 부분이 많은 것 같다.\n",
    "+ 지금은 형태소 분석기를 사용하지 않았지만 다음에 형태소 분석기를 적용하면 더 좋을 것 같다."
   ]
  }
 ],
 "metadata": {
  "kernelspec": {
   "display_name": "Python 3 (ipykernel)",
   "language": "python",
   "name": "python3"
  },
  "language_info": {
   "codemirror_mode": {
    "name": "ipython",
    "version": 3
   },
   "file_extension": ".py",
   "mimetype": "text/x-python",
   "name": "python",
   "nbconvert_exporter": "python",
   "pygments_lexer": "ipython3",
   "version": "3.9.7"
  }
 },
 "nbformat": 4,
 "nbformat_minor": 5
}
